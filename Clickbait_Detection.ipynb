{
  "cells": [
    {
      "cell_type": "markdown",
      "metadata": {
        "id": "view-in-github",
        "colab_type": "text"
      },
      "source": [
        "<a href=\"https://colab.research.google.com/github/merttezcan/Next-Level-Clickbait-Detection-System-using-Machine-Learning-Deep-Learning-Techniques/blob/main/Clickbait_Detection.ipynb\" target=\"_parent\"><img src=\"https://colab.research.google.com/assets/colab-badge.svg\" alt=\"Open In Colab\"/></a>"
      ]
    },
    {
      "cell_type": "markdown",
      "metadata": {
        "id": "dH7wwvHUBfMh"
      },
      "source": [
        "# Next-Level Clickbait Detection System using Machine Learning & Deep Learning Techniques\n",
        "\n",
        "#### Author: Mehmet Mert Tezcan\n",
        "\n",
        "# 1. Introduction\n",
        "\n",
        "In today's fast-paced digital media landscape, clickbait headlines have become a common tactic used by news organizations to drive traffic to their websites. These sensationalized or misleading headlines are designed to grab the reader's attention and entice them to click on a link to an article or website. While clickbait can be profitable for the website, it can also be frustrating and misleading for readers.\n",
        "\n",
        "This project aims to address the issue of clickbait in the news industry by developing a system for detecting clickbait headlines in a dataset of Turkish news articles. By identifying and flagging clickbait headlines, we hope to improve the quality and trustworthiness of online news for readers. Additionally, this project aims to contribute to the ongoing conversation about the impact of clickbait on the credibility of the news media and the role of technology in combating it.\n",
        "\n",
        "# 2. Characterizing the Turkish News Dataset\n",
        "\n",
        "Our dataset for this project consists of 20,036 headlines, each labeled as either clickbait (1) or non-clickbait (0). These headlines were collected from a variety of websites and are available for download on [Kaggle](https://www.kaggle.com/datasets/suleymancan/turkishnewstitle20000clickbaitclassified).\n",
        "\n",
        "In order to build a reliable clickbait detection system, it is important to have a diverse and representative dataset. This dataset provides a good starting point, but it is worth noting that it may not perfectly reflect the full range of clickbait practices in the Turkish news industry. Further analysis and preprocessing of the dataset may be necessary to ensure that it is well-suited for the task at hand.\n",
        "\n",
        "# 3. Let's start with the code\n",
        "\n",
        "## 3.1 Importing Libraries\n",
        "\n"
      ]
    },
    {
      "cell_type": "code",
      "execution_count": 1,
      "metadata": {
        "colab": {
          "base_uri": "https://localhost:8080/"
        },
        "id": "G1IjQmC5Ffdu",
        "outputId": "73a4bee8-b2b7-459c-8eb2-c6c06f07e8f3"
      },
      "outputs": [
        {
          "output_type": "stream",
          "name": "stderr",
          "text": [
            "[nltk_data] Downloading package punkt to /root/nltk_data...\n",
            "[nltk_data]   Unzipping tokenizers/punkt.zip.\n",
            "[nltk_data] Downloading package stopwords to /root/nltk_data...\n",
            "[nltk_data]   Unzipping corpora/stopwords.zip.\n"
          ]
        }
      ],
      "source": [
        "import pandas as pd\n",
        "import numpy as np\n",
        "import matplotlib.pyplot as plt\n",
        "import seaborn as sns\n",
        "from scipy import sparse\n",
        "\n",
        "import re\n",
        "import string\n",
        "from string import punctuation\n",
        "import nltk\n",
        "nltk.download('punkt')\n",
        "nltk.download('stopwords')\n",
        "from nltk.corpus import stopwords\n",
        "from nltk.tokenize import word_tokenize\n",
        "from nltk.probability import FreqDist\n",
        "from nltk.stem import PorterStemmer\n",
        "from nltk.probability import FreqDist\n",
        "\n",
        "from sklearn.model_selection import train_test_split\n",
        "from sklearn.linear_model import LogisticRegression\n",
        "from sklearn.metrics import accuracy_score, confusion_matrix, classification_report\n",
        "from sklearn.feature_extraction.text import CountVectorizer, TfidfVectorizer, TfidfTransformer\n",
        "from sklearn.svm import LinearSVC\n",
        "from sklearn.linear_model import LogisticRegression\n",
        "from sklearn.naive_bayes import MultinomialNB\n",
        "from sklearn.ensemble import RandomForestClassifier\n",
        "from sklearn.model_selection import cross_val_score\n",
        "from sklearn.model_selection import GridSearchCV\n",
        "from sklearn.preprocessing import StandardScaler\n",
        "\n",
        "import tensorflow as tf\n",
        "import keras\n",
        "from tensorflow.keras.preprocessing.text import Tokenizer\n",
        "from tensorflow.keras.preprocessing.sequence import pad_sequences\n",
        "from tensorflow.keras.layers import Input, Embedding, LSTM, Dense, Dropout, Bidirectional, GlobalMaxPooling1D, Concatenate\n",
        "from tensorflow.keras.models import Model\n",
        "\n",
        "import warnings\n",
        "warnings.filterwarnings('ignore')"
      ]
    },
    {
      "cell_type": "markdown",
      "metadata": {
        "id": "Vlc55Hb0FsFh"
      },
      "source": [
        "## 3.2 Importing data\n",
        "\n",
        "- The dataset is loaded into a pandas dataframe using the read_csv() function. Shape is used to display the number of rows and columns in the dataframe. We can also check value.counts() to see how many headlines are labeled as clickbait and how many are labeled as non-clickbait.\n",
        "\n",
        "- The first five rows of the dataframe are displayed using the head() function."
      ]
    },
    {
      "cell_type": "code",
      "execution_count": 2,
      "metadata": {
        "colab": {
          "base_uri": "https://localhost:8080/"
        },
        "id": "Pfa4e7JxFjBe",
        "outputId": "a67435b2-e70d-4d13-fbd8-3b2a586b596e"
      },
      "outputs": [
        {
          "output_type": "stream",
          "name": "stdout",
          "text": [
            "Shape of the dataset: (20038, 4)\n",
            "Number of the clickbait and non-clickbait titles:\n",
            "1.0    10030\n",
            "0.0    10006\n",
            "Name: clickbait, dtype: int64\n"
          ]
        }
      ],
      "source": [
        "df = pd.read_csv('20000_turkish_news_title.csv')\n",
        "print(\"Shape of the dataset:\", df.shape)\n",
        "\n",
        "print(\"Number of the clickbait and non-clickbait titles:\")\n",
        "print(df.clickbait.value_counts())"
      ]
    },
    {
      "cell_type": "code",
      "execution_count": 3,
      "metadata": {
        "colab": {
          "base_uri": "https://localhost:8080/",
          "height": 206
        },
        "id": "j-mcySV9F4yD",
        "outputId": "2f1192f9-2674-45f4-ae41-902219d07da5"
      },
      "outputs": [
        {
          "output_type": "execute_result",
          "data": {
            "text/plain": [
              "      id  clickbait             site  \\\n",
              "0  25892        1.0  hurriyet.com.tr   \n",
              "1  25893        1.0  hurriyet.com.tr   \n",
              "2  25894        1.0  hurriyet.com.tr   \n",
              "3      4        0.0          nayn.co   \n",
              "4      5        0.0          nayn.co   \n",
              "\n",
              "                                               title  \n",
              "0               İhracatta Türkiye'nin yarısını geçti  \n",
              "1              Borsa İstanbul günü düşüşle tamamladı  \n",
              "2  Londra ve Manchester uçuşlarında yolcu rekoru ...  \n",
              "3  CHP’li İlgezdi’den partisine ve Kılıçdaroğlu’n...  \n",
              "4  Vatandaşın derdine ortak olmaya soyunan bir cu...  "
            ],
            "text/html": [
              "\n",
              "  <div id=\"df-ab6cb011-ffe8-4038-a767-c85efafea87f\">\n",
              "    <div class=\"colab-df-container\">\n",
              "      <div>\n",
              "<style scoped>\n",
              "    .dataframe tbody tr th:only-of-type {\n",
              "        vertical-align: middle;\n",
              "    }\n",
              "\n",
              "    .dataframe tbody tr th {\n",
              "        vertical-align: top;\n",
              "    }\n",
              "\n",
              "    .dataframe thead th {\n",
              "        text-align: right;\n",
              "    }\n",
              "</style>\n",
              "<table border=\"1\" class=\"dataframe\">\n",
              "  <thead>\n",
              "    <tr style=\"text-align: right;\">\n",
              "      <th></th>\n",
              "      <th>id</th>\n",
              "      <th>clickbait</th>\n",
              "      <th>site</th>\n",
              "      <th>title</th>\n",
              "    </tr>\n",
              "  </thead>\n",
              "  <tbody>\n",
              "    <tr>\n",
              "      <th>0</th>\n",
              "      <td>25892</td>\n",
              "      <td>1.0</td>\n",
              "      <td>hurriyet.com.tr</td>\n",
              "      <td>İhracatta Türkiye'nin yarısını geçti</td>\n",
              "    </tr>\n",
              "    <tr>\n",
              "      <th>1</th>\n",
              "      <td>25893</td>\n",
              "      <td>1.0</td>\n",
              "      <td>hurriyet.com.tr</td>\n",
              "      <td>Borsa İstanbul günü düşüşle tamamladı</td>\n",
              "    </tr>\n",
              "    <tr>\n",
              "      <th>2</th>\n",
              "      <td>25894</td>\n",
              "      <td>1.0</td>\n",
              "      <td>hurriyet.com.tr</td>\n",
              "      <td>Londra ve Manchester uçuşlarında yolcu rekoru ...</td>\n",
              "    </tr>\n",
              "    <tr>\n",
              "      <th>3</th>\n",
              "      <td>4</td>\n",
              "      <td>0.0</td>\n",
              "      <td>nayn.co</td>\n",
              "      <td>CHP’li İlgezdi’den partisine ve Kılıçdaroğlu’n...</td>\n",
              "    </tr>\n",
              "    <tr>\n",
              "      <th>4</th>\n",
              "      <td>5</td>\n",
              "      <td>0.0</td>\n",
              "      <td>nayn.co</td>\n",
              "      <td>Vatandaşın derdine ortak olmaya soyunan bir cu...</td>\n",
              "    </tr>\n",
              "  </tbody>\n",
              "</table>\n",
              "</div>\n",
              "      <button class=\"colab-df-convert\" onclick=\"convertToInteractive('df-ab6cb011-ffe8-4038-a767-c85efafea87f')\"\n",
              "              title=\"Convert this dataframe to an interactive table.\"\n",
              "              style=\"display:none;\">\n",
              "        \n",
              "  <svg xmlns=\"http://www.w3.org/2000/svg\" height=\"24px\"viewBox=\"0 0 24 24\"\n",
              "       width=\"24px\">\n",
              "    <path d=\"M0 0h24v24H0V0z\" fill=\"none\"/>\n",
              "    <path d=\"M18.56 5.44l.94 2.06.94-2.06 2.06-.94-2.06-.94-.94-2.06-.94 2.06-2.06.94zm-11 1L8.5 8.5l.94-2.06 2.06-.94-2.06-.94L8.5 2.5l-.94 2.06-2.06.94zm10 10l.94 2.06.94-2.06 2.06-.94-2.06-.94-.94-2.06-.94 2.06-2.06.94z\"/><path d=\"M17.41 7.96l-1.37-1.37c-.4-.4-.92-.59-1.43-.59-.52 0-1.04.2-1.43.59L10.3 9.45l-7.72 7.72c-.78.78-.78 2.05 0 2.83L4 21.41c.39.39.9.59 1.41.59.51 0 1.02-.2 1.41-.59l7.78-7.78 2.81-2.81c.8-.78.8-2.07 0-2.86zM5.41 20L4 18.59l7.72-7.72 1.47 1.35L5.41 20z\"/>\n",
              "  </svg>\n",
              "      </button>\n",
              "      \n",
              "  <style>\n",
              "    .colab-df-container {\n",
              "      display:flex;\n",
              "      flex-wrap:wrap;\n",
              "      gap: 12px;\n",
              "    }\n",
              "\n",
              "    .colab-df-convert {\n",
              "      background-color: #E8F0FE;\n",
              "      border: none;\n",
              "      border-radius: 50%;\n",
              "      cursor: pointer;\n",
              "      display: none;\n",
              "      fill: #1967D2;\n",
              "      height: 32px;\n",
              "      padding: 0 0 0 0;\n",
              "      width: 32px;\n",
              "    }\n",
              "\n",
              "    .colab-df-convert:hover {\n",
              "      background-color: #E2EBFA;\n",
              "      box-shadow: 0px 1px 2px rgba(60, 64, 67, 0.3), 0px 1px 3px 1px rgba(60, 64, 67, 0.15);\n",
              "      fill: #174EA6;\n",
              "    }\n",
              "\n",
              "    [theme=dark] .colab-df-convert {\n",
              "      background-color: #3B4455;\n",
              "      fill: #D2E3FC;\n",
              "    }\n",
              "\n",
              "    [theme=dark] .colab-df-convert:hover {\n",
              "      background-color: #434B5C;\n",
              "      box-shadow: 0px 1px 3px 1px rgba(0, 0, 0, 0.15);\n",
              "      filter: drop-shadow(0px 1px 2px rgba(0, 0, 0, 0.3));\n",
              "      fill: #FFFFFF;\n",
              "    }\n",
              "  </style>\n",
              "\n",
              "      <script>\n",
              "        const buttonEl =\n",
              "          document.querySelector('#df-ab6cb011-ffe8-4038-a767-c85efafea87f button.colab-df-convert');\n",
              "        buttonEl.style.display =\n",
              "          google.colab.kernel.accessAllowed ? 'block' : 'none';\n",
              "\n",
              "        async function convertToInteractive(key) {\n",
              "          const element = document.querySelector('#df-ab6cb011-ffe8-4038-a767-c85efafea87f');\n",
              "          const dataTable =\n",
              "            await google.colab.kernel.invokeFunction('convertToInteractive',\n",
              "                                                     [key], {});\n",
              "          if (!dataTable) return;\n",
              "\n",
              "          const docLinkHtml = 'Like what you see? Visit the ' +\n",
              "            '<a target=\"_blank\" href=https://colab.research.google.com/notebooks/data_table.ipynb>data table notebook</a>'\n",
              "            + ' to learn more about interactive tables.';\n",
              "          element.innerHTML = '';\n",
              "          dataTable['output_type'] = 'display_data';\n",
              "          await google.colab.output.renderOutput(dataTable, element);\n",
              "          const docLink = document.createElement('div');\n",
              "          docLink.innerHTML = docLinkHtml;\n",
              "          element.appendChild(docLink);\n",
              "        }\n",
              "      </script>\n",
              "    </div>\n",
              "  </div>\n",
              "  "
            ]
          },
          "metadata": {},
          "execution_count": 3
        }
      ],
      "source": [
        "df.head()"
      ]
    },
    {
      "cell_type": "markdown",
      "metadata": {
        "id": "wK42lceiGKNt"
      },
      "source": [
        "## 3.3 Data preprocessing\n",
        "\n",
        "Before we can begin analyzing the data, we need to perform some preprocessing steps to get it into a form that is suitable for our purposes. The dataset consists of four columns: \"id\", \"clickbait\", \"site\", and \"title\". The \"id\" column is a unique identifier for each headline, the \"clickbait\" column is the label (either 1 for clickbait or 0 for non-clickbait), the \"site\" column is the website where the headline was published, and the \"title\" column is the headline text.\n",
        "\n",
        "For the purposes of this project, we are only interested in the \"clickbait\" and \"title\" columns, as the \"clickbait\" column provides the labels for our data and the \"title\" column contains the text that we will be analyzing. The \"id\" and \"site\" columns are not relevant for our analysis, so we can drop them from the dataset.\n",
        "\n",
        "Also we can rename the \"clickbait\" column to \"label\"."
      ]
    },
    {
      "cell_type": "code",
      "execution_count": 4,
      "metadata": {
        "colab": {
          "base_uri": "https://localhost:8080/",
          "height": 424
        },
        "id": "QNilTvwOGHTN",
        "outputId": "ba7a86a9-23ed-405c-c806-4dd4336a8729"
      },
      "outputs": [
        {
          "output_type": "execute_result",
          "data": {
            "text/plain": [
              "       label                                              title\n",
              "0        1.0               İhracatta Türkiye'nin yarısını geçti\n",
              "1        1.0              Borsa İstanbul günü düşüşle tamamladı\n",
              "2        1.0  Londra ve Manchester uçuşlarında yolcu rekoru ...\n",
              "3        0.0  CHP’li İlgezdi’den partisine ve Kılıçdaroğlu’n...\n",
              "4        0.0  Vatandaşın derdine ortak olmaya soyunan bir cu...\n",
              "...      ...                                                ...\n",
              "20033    1.0  Kılıçdaroğlu, 8 Mart Dünya Emekçi Kadınlar Gün...\n",
              "20034    1.0  Abdest nasıl alınır? Abdest alırken hangi dual...\n",
              "20035    1.0  Sıla Hanım, Ahmet Bey’in inançlarına saygısızmış!\n",
              "20036    1.0  Binali Yıldırım: Hiçbir şekilde hakkınızın kay...\n",
              "20037    1.0  Kadınlarda En Çok Görülen Hastalıklar ve Tedav...\n",
              "\n",
              "[20038 rows x 2 columns]"
            ],
            "text/html": [
              "\n",
              "  <div id=\"df-b95549cc-c571-43fe-8d85-d28067e9e39f\">\n",
              "    <div class=\"colab-df-container\">\n",
              "      <div>\n",
              "<style scoped>\n",
              "    .dataframe tbody tr th:only-of-type {\n",
              "        vertical-align: middle;\n",
              "    }\n",
              "\n",
              "    .dataframe tbody tr th {\n",
              "        vertical-align: top;\n",
              "    }\n",
              "\n",
              "    .dataframe thead th {\n",
              "        text-align: right;\n",
              "    }\n",
              "</style>\n",
              "<table border=\"1\" class=\"dataframe\">\n",
              "  <thead>\n",
              "    <tr style=\"text-align: right;\">\n",
              "      <th></th>\n",
              "      <th>label</th>\n",
              "      <th>title</th>\n",
              "    </tr>\n",
              "  </thead>\n",
              "  <tbody>\n",
              "    <tr>\n",
              "      <th>0</th>\n",
              "      <td>1.0</td>\n",
              "      <td>İhracatta Türkiye'nin yarısını geçti</td>\n",
              "    </tr>\n",
              "    <tr>\n",
              "      <th>1</th>\n",
              "      <td>1.0</td>\n",
              "      <td>Borsa İstanbul günü düşüşle tamamladı</td>\n",
              "    </tr>\n",
              "    <tr>\n",
              "      <th>2</th>\n",
              "      <td>1.0</td>\n",
              "      <td>Londra ve Manchester uçuşlarında yolcu rekoru ...</td>\n",
              "    </tr>\n",
              "    <tr>\n",
              "      <th>3</th>\n",
              "      <td>0.0</td>\n",
              "      <td>CHP’li İlgezdi’den partisine ve Kılıçdaroğlu’n...</td>\n",
              "    </tr>\n",
              "    <tr>\n",
              "      <th>4</th>\n",
              "      <td>0.0</td>\n",
              "      <td>Vatandaşın derdine ortak olmaya soyunan bir cu...</td>\n",
              "    </tr>\n",
              "    <tr>\n",
              "      <th>...</th>\n",
              "      <td>...</td>\n",
              "      <td>...</td>\n",
              "    </tr>\n",
              "    <tr>\n",
              "      <th>20033</th>\n",
              "      <td>1.0</td>\n",
              "      <td>Kılıçdaroğlu, 8 Mart Dünya Emekçi Kadınlar Gün...</td>\n",
              "    </tr>\n",
              "    <tr>\n",
              "      <th>20034</th>\n",
              "      <td>1.0</td>\n",
              "      <td>Abdest nasıl alınır? Abdest alırken hangi dual...</td>\n",
              "    </tr>\n",
              "    <tr>\n",
              "      <th>20035</th>\n",
              "      <td>1.0</td>\n",
              "      <td>Sıla Hanım, Ahmet Bey’in inançlarına saygısızmış!</td>\n",
              "    </tr>\n",
              "    <tr>\n",
              "      <th>20036</th>\n",
              "      <td>1.0</td>\n",
              "      <td>Binali Yıldırım: Hiçbir şekilde hakkınızın kay...</td>\n",
              "    </tr>\n",
              "    <tr>\n",
              "      <th>20037</th>\n",
              "      <td>1.0</td>\n",
              "      <td>Kadınlarda En Çok Görülen Hastalıklar ve Tedav...</td>\n",
              "    </tr>\n",
              "  </tbody>\n",
              "</table>\n",
              "<p>20038 rows × 2 columns</p>\n",
              "</div>\n",
              "      <button class=\"colab-df-convert\" onclick=\"convertToInteractive('df-b95549cc-c571-43fe-8d85-d28067e9e39f')\"\n",
              "              title=\"Convert this dataframe to an interactive table.\"\n",
              "              style=\"display:none;\">\n",
              "        \n",
              "  <svg xmlns=\"http://www.w3.org/2000/svg\" height=\"24px\"viewBox=\"0 0 24 24\"\n",
              "       width=\"24px\">\n",
              "    <path d=\"M0 0h24v24H0V0z\" fill=\"none\"/>\n",
              "    <path d=\"M18.56 5.44l.94 2.06.94-2.06 2.06-.94-2.06-.94-.94-2.06-.94 2.06-2.06.94zm-11 1L8.5 8.5l.94-2.06 2.06-.94-2.06-.94L8.5 2.5l-.94 2.06-2.06.94zm10 10l.94 2.06.94-2.06 2.06-.94-2.06-.94-.94-2.06-.94 2.06-2.06.94z\"/><path d=\"M17.41 7.96l-1.37-1.37c-.4-.4-.92-.59-1.43-.59-.52 0-1.04.2-1.43.59L10.3 9.45l-7.72 7.72c-.78.78-.78 2.05 0 2.83L4 21.41c.39.39.9.59 1.41.59.51 0 1.02-.2 1.41-.59l7.78-7.78 2.81-2.81c.8-.78.8-2.07 0-2.86zM5.41 20L4 18.59l7.72-7.72 1.47 1.35L5.41 20z\"/>\n",
              "  </svg>\n",
              "      </button>\n",
              "      \n",
              "  <style>\n",
              "    .colab-df-container {\n",
              "      display:flex;\n",
              "      flex-wrap:wrap;\n",
              "      gap: 12px;\n",
              "    }\n",
              "\n",
              "    .colab-df-convert {\n",
              "      background-color: #E8F0FE;\n",
              "      border: none;\n",
              "      border-radius: 50%;\n",
              "      cursor: pointer;\n",
              "      display: none;\n",
              "      fill: #1967D2;\n",
              "      height: 32px;\n",
              "      padding: 0 0 0 0;\n",
              "      width: 32px;\n",
              "    }\n",
              "\n",
              "    .colab-df-convert:hover {\n",
              "      background-color: #E2EBFA;\n",
              "      box-shadow: 0px 1px 2px rgba(60, 64, 67, 0.3), 0px 1px 3px 1px rgba(60, 64, 67, 0.15);\n",
              "      fill: #174EA6;\n",
              "    }\n",
              "\n",
              "    [theme=dark] .colab-df-convert {\n",
              "      background-color: #3B4455;\n",
              "      fill: #D2E3FC;\n",
              "    }\n",
              "\n",
              "    [theme=dark] .colab-df-convert:hover {\n",
              "      background-color: #434B5C;\n",
              "      box-shadow: 0px 1px 3px 1px rgba(0, 0, 0, 0.15);\n",
              "      filter: drop-shadow(0px 1px 2px rgba(0, 0, 0, 0.3));\n",
              "      fill: #FFFFFF;\n",
              "    }\n",
              "  </style>\n",
              "\n",
              "      <script>\n",
              "        const buttonEl =\n",
              "          document.querySelector('#df-b95549cc-c571-43fe-8d85-d28067e9e39f button.colab-df-convert');\n",
              "        buttonEl.style.display =\n",
              "          google.colab.kernel.accessAllowed ? 'block' : 'none';\n",
              "\n",
              "        async function convertToInteractive(key) {\n",
              "          const element = document.querySelector('#df-b95549cc-c571-43fe-8d85-d28067e9e39f');\n",
              "          const dataTable =\n",
              "            await google.colab.kernel.invokeFunction('convertToInteractive',\n",
              "                                                     [key], {});\n",
              "          if (!dataTable) return;\n",
              "\n",
              "          const docLinkHtml = 'Like what you see? Visit the ' +\n",
              "            '<a target=\"_blank\" href=https://colab.research.google.com/notebooks/data_table.ipynb>data table notebook</a>'\n",
              "            + ' to learn more about interactive tables.';\n",
              "          element.innerHTML = '';\n",
              "          dataTable['output_type'] = 'display_data';\n",
              "          await google.colab.output.renderOutput(dataTable, element);\n",
              "          const docLink = document.createElement('div');\n",
              "          docLink.innerHTML = docLinkHtml;\n",
              "          element.appendChild(docLink);\n",
              "        }\n",
              "      </script>\n",
              "    </div>\n",
              "  </div>\n",
              "  "
            ]
          },
          "metadata": {},
          "execution_count": 4
        }
      ],
      "source": [
        "df = df.drop(df.columns[[0, 2]],axis = 1)\n",
        "df = df.rename(columns = {'clickbait':'label'})\n",
        "\n",
        "df"
      ]
    },
    {
      "cell_type": "markdown",
      "metadata": {
        "id": "VgjaPd_mHXLt"
      },
      "source": [
        "Before we can proceed with our analysis, it is important to ensure that the data is clean and free of errors or missing values. Missing data can introduce biases and distort our results, so it is important to identify and handle missing values appropriately.\n",
        "\n",
        "One way to check for missing values is to use the .isnull() function, which returns a Boolean mask indicating which values are missing. We can then use the .sum() function to count the number of missing values per column. In the case of our dataset, we can use these functions to check for missing values as follows:"
      ]
    },
    {
      "cell_type": "code",
      "execution_count": 5,
      "metadata": {
        "colab": {
          "base_uri": "https://localhost:8080/"
        },
        "id": "b2cwbmivHGv_",
        "outputId": "617a11e7-8f34-426b-df1b-d20d910245f3"
      },
      "outputs": [
        {
          "output_type": "stream",
          "name": "stdout",
          "text": [
            "label    2\n",
            "title    0\n",
            "dtype: int64\n"
          ]
        }
      ],
      "source": [
        "null_mask = df.isnull()\n",
        "null_counts = null_mask.sum()\n",
        "print(null_counts)"
      ]
    },
    {
      "cell_type": "markdown",
      "metadata": {
        "id": "P0o-svucHaoj"
      },
      "source": [
        "We only have two missing values in our dataset. We can drop them."
      ]
    },
    {
      "cell_type": "code",
      "execution_count": 6,
      "metadata": {
        "id": "G_rXsW2cHZ-K"
      },
      "outputs": [],
      "source": [
        "df = df.dropna()"
      ]
    },
    {
      "cell_type": "markdown",
      "metadata": {
        "id": "Ckm2rDddHfMN"
      },
      "source": [
        "# 4. Feature Engineering\n",
        "\n",
        "One way to extract meaningful information from text data is to use feature engineering techniques. Feature engineering involves creating new features from the raw data that capture important patterns or trends. These features can then be used as input to machine learning algorithms, which can learn to identify patterns in the data and make predictions or decisions based on those patterns.\n",
        "\n",
        "In the case of our clickbait detection project, the \"title\" column contains the headline text that we want to analyze. One potential feature that we might extract from this text is the presence or absence of certain punctuation marks. For example, we could create two new binary features named contains_exclamation and contains_question_mark that indicate whether a headline contains an exclamation mark or a question mark, respectively. These features might be useful for detecting clickbait headlines, as sensational headlines often contain exclamation marks or question marks to grab the reader's attention.\n",
        "\n",
        "We can also consider more advanced features that capture the linguistic structure of the headline. Other potential features can be the title length, presence of numbers, uppercase letters, or the presence of sentiment words, such as \"amazing\" or \"shocking\" (in Turkish). Clickbait headlines often use emotionally charged language to create a sense of urgency or excitement.\n",
        "\n",
        "To extract these features, we can use regular expressions (with the re library) to search the headline text for exclamation marks and question marks. If either punctuation mark is present, we can set the corresponding feature to 1, and if not, we can set it to 0. This process can be done using the following code:"
      ]
    },
    {
      "cell_type": "code",
      "execution_count": 7,
      "metadata": {
        "colab": {
          "base_uri": "https://localhost:8080/",
          "height": 513
        },
        "id": "Jmv_UtRvHdPO",
        "outputId": "afac6caa-0bc1-4403-e23a-b4332221a9a0"
      },
      "outputs": [
        {
          "output_type": "execute_result",
          "data": {
            "text/plain": [
              "   label                                              title  \\\n",
              "0    1.0               İhracatta Türkiye'nin yarısını geçti   \n",
              "1    1.0              Borsa İstanbul günü düşüşle tamamladı   \n",
              "2    1.0  Londra ve Manchester uçuşlarında yolcu rekoru ...   \n",
              "3    0.0  CHP’li İlgezdi’den partisine ve Kılıçdaroğlu’n...   \n",
              "4    0.0  Vatandaşın derdine ortak olmaya soyunan bir cu...   \n",
              "\n",
              "   contains_exclamation  contains_question_mark  title_length  num_of_words  \\\n",
              "0                     0                       0            36             4   \n",
              "1                     0                       0            37             5   \n",
              "2                     0                       0            53             7   \n",
              "3                     0                       0           114            13   \n",
              "4                     0                       0            88            11   \n",
              "\n",
              "   num_of_uppercase_letters  presence_of_numbers  clickbait_words_count  \n",
              "0                         2                    0                      0  \n",
              "1                         2                    0                      0  \n",
              "2                         2                    0                      0  \n",
              "3                         5                    1                      0  \n",
              "4                         1                    0                      0  "
            ],
            "text/html": [
              "\n",
              "  <div id=\"df-054e7b27-2270-455d-864a-f8c0dc2021a0\">\n",
              "    <div class=\"colab-df-container\">\n",
              "      <div>\n",
              "<style scoped>\n",
              "    .dataframe tbody tr th:only-of-type {\n",
              "        vertical-align: middle;\n",
              "    }\n",
              "\n",
              "    .dataframe tbody tr th {\n",
              "        vertical-align: top;\n",
              "    }\n",
              "\n",
              "    .dataframe thead th {\n",
              "        text-align: right;\n",
              "    }\n",
              "</style>\n",
              "<table border=\"1\" class=\"dataframe\">\n",
              "  <thead>\n",
              "    <tr style=\"text-align: right;\">\n",
              "      <th></th>\n",
              "      <th>label</th>\n",
              "      <th>title</th>\n",
              "      <th>contains_exclamation</th>\n",
              "      <th>contains_question_mark</th>\n",
              "      <th>title_length</th>\n",
              "      <th>num_of_words</th>\n",
              "      <th>num_of_uppercase_letters</th>\n",
              "      <th>presence_of_numbers</th>\n",
              "      <th>clickbait_words_count</th>\n",
              "    </tr>\n",
              "  </thead>\n",
              "  <tbody>\n",
              "    <tr>\n",
              "      <th>0</th>\n",
              "      <td>1.0</td>\n",
              "      <td>İhracatta Türkiye'nin yarısını geçti</td>\n",
              "      <td>0</td>\n",
              "      <td>0</td>\n",
              "      <td>36</td>\n",
              "      <td>4</td>\n",
              "      <td>2</td>\n",
              "      <td>0</td>\n",
              "      <td>0</td>\n",
              "    </tr>\n",
              "    <tr>\n",
              "      <th>1</th>\n",
              "      <td>1.0</td>\n",
              "      <td>Borsa İstanbul günü düşüşle tamamladı</td>\n",
              "      <td>0</td>\n",
              "      <td>0</td>\n",
              "      <td>37</td>\n",
              "      <td>5</td>\n",
              "      <td>2</td>\n",
              "      <td>0</td>\n",
              "      <td>0</td>\n",
              "    </tr>\n",
              "    <tr>\n",
              "      <th>2</th>\n",
              "      <td>1.0</td>\n",
              "      <td>Londra ve Manchester uçuşlarında yolcu rekoru ...</td>\n",
              "      <td>0</td>\n",
              "      <td>0</td>\n",
              "      <td>53</td>\n",
              "      <td>7</td>\n",
              "      <td>2</td>\n",
              "      <td>0</td>\n",
              "      <td>0</td>\n",
              "    </tr>\n",
              "    <tr>\n",
              "      <th>3</th>\n",
              "      <td>0.0</td>\n",
              "      <td>CHP’li İlgezdi’den partisine ve Kılıçdaroğlu’n...</td>\n",
              "      <td>0</td>\n",
              "      <td>0</td>\n",
              "      <td>114</td>\n",
              "      <td>13</td>\n",
              "      <td>5</td>\n",
              "      <td>1</td>\n",
              "      <td>0</td>\n",
              "    </tr>\n",
              "    <tr>\n",
              "      <th>4</th>\n",
              "      <td>0.0</td>\n",
              "      <td>Vatandaşın derdine ortak olmaya soyunan bir cu...</td>\n",
              "      <td>0</td>\n",
              "      <td>0</td>\n",
              "      <td>88</td>\n",
              "      <td>11</td>\n",
              "      <td>1</td>\n",
              "      <td>0</td>\n",
              "      <td>0</td>\n",
              "    </tr>\n",
              "  </tbody>\n",
              "</table>\n",
              "</div>\n",
              "      <button class=\"colab-df-convert\" onclick=\"convertToInteractive('df-054e7b27-2270-455d-864a-f8c0dc2021a0')\"\n",
              "              title=\"Convert this dataframe to an interactive table.\"\n",
              "              style=\"display:none;\">\n",
              "        \n",
              "  <svg xmlns=\"http://www.w3.org/2000/svg\" height=\"24px\"viewBox=\"0 0 24 24\"\n",
              "       width=\"24px\">\n",
              "    <path d=\"M0 0h24v24H0V0z\" fill=\"none\"/>\n",
              "    <path d=\"M18.56 5.44l.94 2.06.94-2.06 2.06-.94-2.06-.94-.94-2.06-.94 2.06-2.06.94zm-11 1L8.5 8.5l.94-2.06 2.06-.94-2.06-.94L8.5 2.5l-.94 2.06-2.06.94zm10 10l.94 2.06.94-2.06 2.06-.94-2.06-.94-.94-2.06-.94 2.06-2.06.94z\"/><path d=\"M17.41 7.96l-1.37-1.37c-.4-.4-.92-.59-1.43-.59-.52 0-1.04.2-1.43.59L10.3 9.45l-7.72 7.72c-.78.78-.78 2.05 0 2.83L4 21.41c.39.39.9.59 1.41.59.51 0 1.02-.2 1.41-.59l7.78-7.78 2.81-2.81c.8-.78.8-2.07 0-2.86zM5.41 20L4 18.59l7.72-7.72 1.47 1.35L5.41 20z\"/>\n",
              "  </svg>\n",
              "      </button>\n",
              "      \n",
              "  <style>\n",
              "    .colab-df-container {\n",
              "      display:flex;\n",
              "      flex-wrap:wrap;\n",
              "      gap: 12px;\n",
              "    }\n",
              "\n",
              "    .colab-df-convert {\n",
              "      background-color: #E8F0FE;\n",
              "      border: none;\n",
              "      border-radius: 50%;\n",
              "      cursor: pointer;\n",
              "      display: none;\n",
              "      fill: #1967D2;\n",
              "      height: 32px;\n",
              "      padding: 0 0 0 0;\n",
              "      width: 32px;\n",
              "    }\n",
              "\n",
              "    .colab-df-convert:hover {\n",
              "      background-color: #E2EBFA;\n",
              "      box-shadow: 0px 1px 2px rgba(60, 64, 67, 0.3), 0px 1px 3px 1px rgba(60, 64, 67, 0.15);\n",
              "      fill: #174EA6;\n",
              "    }\n",
              "\n",
              "    [theme=dark] .colab-df-convert {\n",
              "      background-color: #3B4455;\n",
              "      fill: #D2E3FC;\n",
              "    }\n",
              "\n",
              "    [theme=dark] .colab-df-convert:hover {\n",
              "      background-color: #434B5C;\n",
              "      box-shadow: 0px 1px 3px 1px rgba(0, 0, 0, 0.15);\n",
              "      filter: drop-shadow(0px 1px 2px rgba(0, 0, 0, 0.3));\n",
              "      fill: #FFFFFF;\n",
              "    }\n",
              "  </style>\n",
              "\n",
              "      <script>\n",
              "        const buttonEl =\n",
              "          document.querySelector('#df-054e7b27-2270-455d-864a-f8c0dc2021a0 button.colab-df-convert');\n",
              "        buttonEl.style.display =\n",
              "          google.colab.kernel.accessAllowed ? 'block' : 'none';\n",
              "\n",
              "        async function convertToInteractive(key) {\n",
              "          const element = document.querySelector('#df-054e7b27-2270-455d-864a-f8c0dc2021a0');\n",
              "          const dataTable =\n",
              "            await google.colab.kernel.invokeFunction('convertToInteractive',\n",
              "                                                     [key], {});\n",
              "          if (!dataTable) return;\n",
              "\n",
              "          const docLinkHtml = 'Like what you see? Visit the ' +\n",
              "            '<a target=\"_blank\" href=https://colab.research.google.com/notebooks/data_table.ipynb>data table notebook</a>'\n",
              "            + ' to learn more about interactive tables.';\n",
              "          element.innerHTML = '';\n",
              "          dataTable['output_type'] = 'display_data';\n",
              "          await google.colab.output.renderOutput(dataTable, element);\n",
              "          const docLink = document.createElement('div');\n",
              "          docLink.innerHTML = docLinkHtml;\n",
              "          element.appendChild(docLink);\n",
              "        }\n",
              "      </script>\n",
              "    </div>\n",
              "  </div>\n",
              "  "
            ]
          },
          "metadata": {},
          "execution_count": 7
        }
      ],
      "source": [
        "def extract_features(text):\n",
        "    contains_exclamation = int('!' in text)\n",
        "    contains_question_mark = int('?' in text)\n",
        "    # length of the title\n",
        "    title_length = int(len(text))\n",
        "    \n",
        "    # number of words in the title\n",
        "    num_of_words = int(len(text.split()))\n",
        "    \n",
        "    # number of uppercase letters in the title\n",
        "    num_of_uppercase_letters= int(sum(1 for c in text if c.isupper()))\n",
        "\n",
        "    # presence of numbers in the title\n",
        "    presence_of_numbers = int(bool(re.search(r'\\d', text)))\n",
        "    \n",
        "    # presence of words that they use for clickbaits usually\n",
        "    clickbait_words = [\"son dakika\", \"flaş\", \"müjde\", \"inanamayacaksınız\"]\n",
        "    clickbait_words_count = int(sum(1 for word in clickbait_words if word in text.lower()))\n",
        "\n",
        "    return [contains_exclamation, contains_question_mark, title_length, num_of_words, num_of_uppercase_letters, presence_of_numbers, clickbait_words_count]\n",
        "\n",
        "features = []\n",
        "for text in df['title']:\n",
        "    features.append(extract_features(text))\n",
        "\n",
        "\n",
        "# add features to the dataframe\n",
        "\n",
        "df['contains_exclamation'] = [f[0] for f in features]\n",
        "df['contains_question_mark'] = [f[1] for f in features]\n",
        "df['title_length'] = [f[2] for f in features]\n",
        "df['num_of_words'] = [f[3] for f in features]\n",
        "df['num_of_uppercase_letters'] = [f[4] for f in features]\n",
        "df['presence_of_numbers'] = [f[5] for f in features]\n",
        "df['clickbait_words_count'] = [f[6] for f in features]\n",
        "\n",
        "df.head()\n"
      ]
    },
    {
      "cell_type": "markdown",
      "metadata": {
        "id": "ItzsLd2jJj0f"
      },
      "source": [
        "Now we need to do further preprocessing, we are doing it especially after the feature engineering part since we are going to lose some of the punctuations now.\n",
        "\n",
        "Before we can use the headline text for analysis, it is often necessary to preprocess the text to remove noise and make it more amenable to analysis. This preprocessing step can involve a variety of tasks, such as lowercasing the text, removing punctuation and non-alphabetic characters, and stemming (reducing words to their base form).\n",
        "\n",
        "To remove punctuation and non-alphabetic characters from the headline text, we can use the string library and a regular expression (with the re library) to replace these characters. Also a further specific work has been done for the special characters in Turkish. "
      ]
    },
    {
      "cell_type": "code",
      "execution_count": 8,
      "metadata": {
        "colab": {
          "base_uri": "https://localhost:8080/",
          "height": 548
        },
        "id": "3D-ujwByIhNr",
        "outputId": "be78df14-b9f2-41b5-c8da-cb1775bff193"
      },
      "outputs": [
        {
          "output_type": "execute_result",
          "data": {
            "text/plain": [
              "   label                                              title  \\\n",
              "0    1.0               i̇hracatta türkiyenin yarısını geçti   \n",
              "1    1.0             borsa i̇stanbul günü düşüşle tamamladı   \n",
              "2    1.0  londra ve manchester uçuşlarında yolcu rekoru ...   \n",
              "3    0.0  chpli i̇lgezdiden partisine ve kılıçdaroğluna ...   \n",
              "4    0.0  vatandaşın derdine ortak olmaya soyunan bir cu...   \n",
              "\n",
              "   contains_exclamation  contains_question_mark  title_length  num_of_words  \\\n",
              "0                     0                       0            36             4   \n",
              "1                     0                       0            37             5   \n",
              "2                     0                       0            53             7   \n",
              "3                     0                       0           114            13   \n",
              "4                     0                       0            88            11   \n",
              "\n",
              "   num_of_uppercase_letters  presence_of_numbers  clickbait_words_count  \n",
              "0                         2                    0                      0  \n",
              "1                         2                    0                      0  \n",
              "2                         2                    0                      0  \n",
              "3                         5                    1                      0  \n",
              "4                         1                    0                      0  "
            ],
            "text/html": [
              "\n",
              "  <div id=\"df-b15f63b3-9847-4302-9bce-8a0203fcfaec\">\n",
              "    <div class=\"colab-df-container\">\n",
              "      <div>\n",
              "<style scoped>\n",
              "    .dataframe tbody tr th:only-of-type {\n",
              "        vertical-align: middle;\n",
              "    }\n",
              "\n",
              "    .dataframe tbody tr th {\n",
              "        vertical-align: top;\n",
              "    }\n",
              "\n",
              "    .dataframe thead th {\n",
              "        text-align: right;\n",
              "    }\n",
              "</style>\n",
              "<table border=\"1\" class=\"dataframe\">\n",
              "  <thead>\n",
              "    <tr style=\"text-align: right;\">\n",
              "      <th></th>\n",
              "      <th>label</th>\n",
              "      <th>title</th>\n",
              "      <th>contains_exclamation</th>\n",
              "      <th>contains_question_mark</th>\n",
              "      <th>title_length</th>\n",
              "      <th>num_of_words</th>\n",
              "      <th>num_of_uppercase_letters</th>\n",
              "      <th>presence_of_numbers</th>\n",
              "      <th>clickbait_words_count</th>\n",
              "    </tr>\n",
              "  </thead>\n",
              "  <tbody>\n",
              "    <tr>\n",
              "      <th>0</th>\n",
              "      <td>1.0</td>\n",
              "      <td>i̇hracatta türkiyenin yarısını geçti</td>\n",
              "      <td>0</td>\n",
              "      <td>0</td>\n",
              "      <td>36</td>\n",
              "      <td>4</td>\n",
              "      <td>2</td>\n",
              "      <td>0</td>\n",
              "      <td>0</td>\n",
              "    </tr>\n",
              "    <tr>\n",
              "      <th>1</th>\n",
              "      <td>1.0</td>\n",
              "      <td>borsa i̇stanbul günü düşüşle tamamladı</td>\n",
              "      <td>0</td>\n",
              "      <td>0</td>\n",
              "      <td>37</td>\n",
              "      <td>5</td>\n",
              "      <td>2</td>\n",
              "      <td>0</td>\n",
              "      <td>0</td>\n",
              "    </tr>\n",
              "    <tr>\n",
              "      <th>2</th>\n",
              "      <td>1.0</td>\n",
              "      <td>londra ve manchester uçuşlarında yolcu rekoru ...</td>\n",
              "      <td>0</td>\n",
              "      <td>0</td>\n",
              "      <td>53</td>\n",
              "      <td>7</td>\n",
              "      <td>2</td>\n",
              "      <td>0</td>\n",
              "      <td>0</td>\n",
              "    </tr>\n",
              "    <tr>\n",
              "      <th>3</th>\n",
              "      <td>0.0</td>\n",
              "      <td>chpli i̇lgezdiden partisine ve kılıçdaroğluna ...</td>\n",
              "      <td>0</td>\n",
              "      <td>0</td>\n",
              "      <td>114</td>\n",
              "      <td>13</td>\n",
              "      <td>5</td>\n",
              "      <td>1</td>\n",
              "      <td>0</td>\n",
              "    </tr>\n",
              "    <tr>\n",
              "      <th>4</th>\n",
              "      <td>0.0</td>\n",
              "      <td>vatandaşın derdine ortak olmaya soyunan bir cu...</td>\n",
              "      <td>0</td>\n",
              "      <td>0</td>\n",
              "      <td>88</td>\n",
              "      <td>11</td>\n",
              "      <td>1</td>\n",
              "      <td>0</td>\n",
              "      <td>0</td>\n",
              "    </tr>\n",
              "  </tbody>\n",
              "</table>\n",
              "</div>\n",
              "      <button class=\"colab-df-convert\" onclick=\"convertToInteractive('df-b15f63b3-9847-4302-9bce-8a0203fcfaec')\"\n",
              "              title=\"Convert this dataframe to an interactive table.\"\n",
              "              style=\"display:none;\">\n",
              "        \n",
              "  <svg xmlns=\"http://www.w3.org/2000/svg\" height=\"24px\"viewBox=\"0 0 24 24\"\n",
              "       width=\"24px\">\n",
              "    <path d=\"M0 0h24v24H0V0z\" fill=\"none\"/>\n",
              "    <path d=\"M18.56 5.44l.94 2.06.94-2.06 2.06-.94-2.06-.94-.94-2.06-.94 2.06-2.06.94zm-11 1L8.5 8.5l.94-2.06 2.06-.94-2.06-.94L8.5 2.5l-.94 2.06-2.06.94zm10 10l.94 2.06.94-2.06 2.06-.94-2.06-.94-.94-2.06-.94 2.06-2.06.94z\"/><path d=\"M17.41 7.96l-1.37-1.37c-.4-.4-.92-.59-1.43-.59-.52 0-1.04.2-1.43.59L10.3 9.45l-7.72 7.72c-.78.78-.78 2.05 0 2.83L4 21.41c.39.39.9.59 1.41.59.51 0 1.02-.2 1.41-.59l7.78-7.78 2.81-2.81c.8-.78.8-2.07 0-2.86zM5.41 20L4 18.59l7.72-7.72 1.47 1.35L5.41 20z\"/>\n",
              "  </svg>\n",
              "      </button>\n",
              "      \n",
              "  <style>\n",
              "    .colab-df-container {\n",
              "      display:flex;\n",
              "      flex-wrap:wrap;\n",
              "      gap: 12px;\n",
              "    }\n",
              "\n",
              "    .colab-df-convert {\n",
              "      background-color: #E8F0FE;\n",
              "      border: none;\n",
              "      border-radius: 50%;\n",
              "      cursor: pointer;\n",
              "      display: none;\n",
              "      fill: #1967D2;\n",
              "      height: 32px;\n",
              "      padding: 0 0 0 0;\n",
              "      width: 32px;\n",
              "    }\n",
              "\n",
              "    .colab-df-convert:hover {\n",
              "      background-color: #E2EBFA;\n",
              "      box-shadow: 0px 1px 2px rgba(60, 64, 67, 0.3), 0px 1px 3px 1px rgba(60, 64, 67, 0.15);\n",
              "      fill: #174EA6;\n",
              "    }\n",
              "\n",
              "    [theme=dark] .colab-df-convert {\n",
              "      background-color: #3B4455;\n",
              "      fill: #D2E3FC;\n",
              "    }\n",
              "\n",
              "    [theme=dark] .colab-df-convert:hover {\n",
              "      background-color: #434B5C;\n",
              "      box-shadow: 0px 1px 3px 1px rgba(0, 0, 0, 0.15);\n",
              "      filter: drop-shadow(0px 1px 2px rgba(0, 0, 0, 0.3));\n",
              "      fill: #FFFFFF;\n",
              "    }\n",
              "  </style>\n",
              "\n",
              "      <script>\n",
              "        const buttonEl =\n",
              "          document.querySelector('#df-b15f63b3-9847-4302-9bce-8a0203fcfaec button.colab-df-convert');\n",
              "        buttonEl.style.display =\n",
              "          google.colab.kernel.accessAllowed ? 'block' : 'none';\n",
              "\n",
              "        async function convertToInteractive(key) {\n",
              "          const element = document.querySelector('#df-b15f63b3-9847-4302-9bce-8a0203fcfaec');\n",
              "          const dataTable =\n",
              "            await google.colab.kernel.invokeFunction('convertToInteractive',\n",
              "                                                     [key], {});\n",
              "          if (!dataTable) return;\n",
              "\n",
              "          const docLinkHtml = 'Like what you see? Visit the ' +\n",
              "            '<a target=\"_blank\" href=https://colab.research.google.com/notebooks/data_table.ipynb>data table notebook</a>'\n",
              "            + ' to learn more about interactive tables.';\n",
              "          element.innerHTML = '';\n",
              "          dataTable['output_type'] = 'display_data';\n",
              "          await google.colab.output.renderOutput(dataTable, element);\n",
              "          const docLink = document.createElement('div');\n",
              "          docLink.innerHTML = docLinkHtml;\n",
              "          element.appendChild(docLink);\n",
              "        }\n",
              "      </script>\n",
              "    </div>\n",
              "  </div>\n",
              "  "
            ]
          },
          "metadata": {},
          "execution_count": 8
        }
      ],
      "source": [
        "def preprocess_text(text):\n",
        "\n",
        "    # remove urls\n",
        "    text = re.sub(r'^https?:\\/\\/.*[\\r\\n]*', '', text, flags=re.MULTILINE)\n",
        "    text = re.sub(r'\\w+:\\/{2}[\\d\\w-]+(\\.[\\d\\w-]+)*(?:(?:\\/[^\\s/]*))*', '', text)\n",
        "    text = re.sub('\\[.*?\\]', ' ', text)\n",
        "    text = re.sub('“','',text)\n",
        "    text = re.sub('”','',text)\n",
        "    text = re.sub('’','',text)\n",
        "    text = re.sub('–','',text)\n",
        "    text = re.sub('‘','',text)\n",
        "\n",
        "    # remove punctuation\n",
        "    text = ''.join([c for c in text if c not in punctuation])\n",
        "\n",
        "    # replace special turkish characters\n",
        "    text = re.sub(r\"Â\", \"A\", text)\n",
        "    text = re.sub(r\"â\", \"a\", text)\n",
        "    text = re.sub(r\"Î\", \"I\", text)\n",
        "    text = re.sub(r\"î\", \"ı\", text)\n",
        "    text = re.sub(r\"Û\", \"U\", text)\n",
        "    text = re.sub(r\"û\", \"u\", text)\n",
        "\n",
        "    # make text lowercase and take care of the special character 'ı'\n",
        "    text = re.sub(r\"I\", \"ı\", text)\n",
        "    text = text.lower()\n",
        "\n",
        "    # make text lowercase and take care of the special character 'İ'\n",
        "    text = re.sub(r\"İ\", \"i\", text)\n",
        "    text = text.lower()\n",
        "\n",
        "    # remove new line characters\n",
        "    text = re.sub(r\"\\n\", \"  \", text)\n",
        "    text = re.sub(r\"  \", \" \", text)\n",
        "    \n",
        "    return text\n",
        "\n",
        "preprocessed_text = []\n",
        "for text in df['title']:\n",
        "    preprocessed_text.append(preprocess_text(text))\n",
        "\n",
        "df['title'] = preprocessed_text\n",
        "df.head()"
      ]
    },
    {
      "cell_type": "markdown",
      "metadata": {
        "id": "yUP6cotiKdgK"
      },
      "source": [
        "This will leave us with a list of preprocessed headlines that are all lowercase, contain only alphabetic characters, and do not contain any punctuation or non-alphabetic characters. We can then use this preprocessed text as input to our machine learning model or for other analysis tasks.\n",
        "\n",
        "Lastly, we can put the label column at the end of the dataset for better visualization."
      ]
    },
    {
      "cell_type": "code",
      "execution_count": 9,
      "metadata": {
        "colab": {
          "base_uri": "https://localhost:8080/",
          "height": 1000
        },
        "id": "9iC_q_LHKHgD",
        "outputId": "e212333f-88ba-44ed-b7a9-51143c41ed29"
      },
      "outputs": [
        {
          "output_type": "execute_result",
          "data": {
            "text/plain": [
              "                                                   title  \\\n",
              "0                   i̇hracatta türkiyenin yarısını geçti   \n",
              "1                 borsa i̇stanbul günü düşüşle tamamladı   \n",
              "2      londra ve manchester uçuşlarında yolcu rekoru ...   \n",
              "3      chpli i̇lgezdiden partisine ve kılıçdaroğluna ...   \n",
              "4      vatandaşın derdine ortak olmaya soyunan bir cu...   \n",
              "...                                                  ...   \n",
              "20033  kılıçdaroğlu 8 mart dünya emekçi kadınlar günü...   \n",
              "20034  abdest nasıl alınır abdest alırken hangi duala...   \n",
              "20035     sıla hanım ahmet beyin inançlarına saygısızmış   \n",
              "20036  binali yıldırım hiçbir şekilde hakkınızın kayb...   \n",
              "20037  kadınlarda en çok görülen hastalıklar ve tedav...   \n",
              "\n",
              "       contains_exclamation  contains_question_mark  title_length  \\\n",
              "0                         0                       0            36   \n",
              "1                         0                       0            37   \n",
              "2                         0                       0            53   \n",
              "3                         0                       0           114   \n",
              "4                         0                       0            88   \n",
              "...                     ...                     ...           ...   \n",
              "20033                     0                       0            69   \n",
              "20034                     0                       1            61   \n",
              "20035                     1                       0            49   \n",
              "20036                     0                       0            73   \n",
              "20037                     0                       0            58   \n",
              "\n",
              "       num_of_words  num_of_uppercase_letters  presence_of_numbers  \\\n",
              "0                 4                         2                    0   \n",
              "1                 5                         2                    0   \n",
              "2                 7                         2                    0   \n",
              "3                13                         5                    1   \n",
              "4                11                         1                    0   \n",
              "...             ...                       ...                  ...   \n",
              "20033             9                         7                    1   \n",
              "20034             8                         2                    0   \n",
              "20035             6                         4                    0   \n",
              "20036             8                         3                    0   \n",
              "20037             8                         7                    0   \n",
              "\n",
              "       clickbait_words_count  label  \n",
              "0                          0    1.0  \n",
              "1                          0    1.0  \n",
              "2                          0    1.0  \n",
              "3                          0    0.0  \n",
              "4                          0    0.0  \n",
              "...                      ...    ...  \n",
              "20033                      0    1.0  \n",
              "20034                      0    1.0  \n",
              "20035                      0    1.0  \n",
              "20036                      0    1.0  \n",
              "20037                      0    1.0  \n",
              "\n",
              "[20036 rows x 9 columns]"
            ],
            "text/html": [
              "\n",
              "  <div id=\"df-ecc8df70-985b-4bc7-85ed-2422a0589241\">\n",
              "    <div class=\"colab-df-container\">\n",
              "      <div>\n",
              "<style scoped>\n",
              "    .dataframe tbody tr th:only-of-type {\n",
              "        vertical-align: middle;\n",
              "    }\n",
              "\n",
              "    .dataframe tbody tr th {\n",
              "        vertical-align: top;\n",
              "    }\n",
              "\n",
              "    .dataframe thead th {\n",
              "        text-align: right;\n",
              "    }\n",
              "</style>\n",
              "<table border=\"1\" class=\"dataframe\">\n",
              "  <thead>\n",
              "    <tr style=\"text-align: right;\">\n",
              "      <th></th>\n",
              "      <th>title</th>\n",
              "      <th>contains_exclamation</th>\n",
              "      <th>contains_question_mark</th>\n",
              "      <th>title_length</th>\n",
              "      <th>num_of_words</th>\n",
              "      <th>num_of_uppercase_letters</th>\n",
              "      <th>presence_of_numbers</th>\n",
              "      <th>clickbait_words_count</th>\n",
              "      <th>label</th>\n",
              "    </tr>\n",
              "  </thead>\n",
              "  <tbody>\n",
              "    <tr>\n",
              "      <th>0</th>\n",
              "      <td>i̇hracatta türkiyenin yarısını geçti</td>\n",
              "      <td>0</td>\n",
              "      <td>0</td>\n",
              "      <td>36</td>\n",
              "      <td>4</td>\n",
              "      <td>2</td>\n",
              "      <td>0</td>\n",
              "      <td>0</td>\n",
              "      <td>1.0</td>\n",
              "    </tr>\n",
              "    <tr>\n",
              "      <th>1</th>\n",
              "      <td>borsa i̇stanbul günü düşüşle tamamladı</td>\n",
              "      <td>0</td>\n",
              "      <td>0</td>\n",
              "      <td>37</td>\n",
              "      <td>5</td>\n",
              "      <td>2</td>\n",
              "      <td>0</td>\n",
              "      <td>0</td>\n",
              "      <td>1.0</td>\n",
              "    </tr>\n",
              "    <tr>\n",
              "      <th>2</th>\n",
              "      <td>londra ve manchester uçuşlarında yolcu rekoru ...</td>\n",
              "      <td>0</td>\n",
              "      <td>0</td>\n",
              "      <td>53</td>\n",
              "      <td>7</td>\n",
              "      <td>2</td>\n",
              "      <td>0</td>\n",
              "      <td>0</td>\n",
              "      <td>1.0</td>\n",
              "    </tr>\n",
              "    <tr>\n",
              "      <th>3</th>\n",
              "      <td>chpli i̇lgezdiden partisine ve kılıçdaroğluna ...</td>\n",
              "      <td>0</td>\n",
              "      <td>0</td>\n",
              "      <td>114</td>\n",
              "      <td>13</td>\n",
              "      <td>5</td>\n",
              "      <td>1</td>\n",
              "      <td>0</td>\n",
              "      <td>0.0</td>\n",
              "    </tr>\n",
              "    <tr>\n",
              "      <th>4</th>\n",
              "      <td>vatandaşın derdine ortak olmaya soyunan bir cu...</td>\n",
              "      <td>0</td>\n",
              "      <td>0</td>\n",
              "      <td>88</td>\n",
              "      <td>11</td>\n",
              "      <td>1</td>\n",
              "      <td>0</td>\n",
              "      <td>0</td>\n",
              "      <td>0.0</td>\n",
              "    </tr>\n",
              "    <tr>\n",
              "      <th>...</th>\n",
              "      <td>...</td>\n",
              "      <td>...</td>\n",
              "      <td>...</td>\n",
              "      <td>...</td>\n",
              "      <td>...</td>\n",
              "      <td>...</td>\n",
              "      <td>...</td>\n",
              "      <td>...</td>\n",
              "      <td>...</td>\n",
              "    </tr>\n",
              "    <tr>\n",
              "      <th>20033</th>\n",
              "      <td>kılıçdaroğlu 8 mart dünya emekçi kadınlar günü...</td>\n",
              "      <td>0</td>\n",
              "      <td>0</td>\n",
              "      <td>69</td>\n",
              "      <td>9</td>\n",
              "      <td>7</td>\n",
              "      <td>1</td>\n",
              "      <td>0</td>\n",
              "      <td>1.0</td>\n",
              "    </tr>\n",
              "    <tr>\n",
              "      <th>20034</th>\n",
              "      <td>abdest nasıl alınır abdest alırken hangi duala...</td>\n",
              "      <td>0</td>\n",
              "      <td>1</td>\n",
              "      <td>61</td>\n",
              "      <td>8</td>\n",
              "      <td>2</td>\n",
              "      <td>0</td>\n",
              "      <td>0</td>\n",
              "      <td>1.0</td>\n",
              "    </tr>\n",
              "    <tr>\n",
              "      <th>20035</th>\n",
              "      <td>sıla hanım ahmet beyin inançlarına saygısızmış</td>\n",
              "      <td>1</td>\n",
              "      <td>0</td>\n",
              "      <td>49</td>\n",
              "      <td>6</td>\n",
              "      <td>4</td>\n",
              "      <td>0</td>\n",
              "      <td>0</td>\n",
              "      <td>1.0</td>\n",
              "    </tr>\n",
              "    <tr>\n",
              "      <th>20036</th>\n",
              "      <td>binali yıldırım hiçbir şekilde hakkınızın kayb...</td>\n",
              "      <td>0</td>\n",
              "      <td>0</td>\n",
              "      <td>73</td>\n",
              "      <td>8</td>\n",
              "      <td>3</td>\n",
              "      <td>0</td>\n",
              "      <td>0</td>\n",
              "      <td>1.0</td>\n",
              "    </tr>\n",
              "    <tr>\n",
              "      <th>20037</th>\n",
              "      <td>kadınlarda en çok görülen hastalıklar ve tedav...</td>\n",
              "      <td>0</td>\n",
              "      <td>0</td>\n",
              "      <td>58</td>\n",
              "      <td>8</td>\n",
              "      <td>7</td>\n",
              "      <td>0</td>\n",
              "      <td>0</td>\n",
              "      <td>1.0</td>\n",
              "    </tr>\n",
              "  </tbody>\n",
              "</table>\n",
              "<p>20036 rows × 9 columns</p>\n",
              "</div>\n",
              "      <button class=\"colab-df-convert\" onclick=\"convertToInteractive('df-ecc8df70-985b-4bc7-85ed-2422a0589241')\"\n",
              "              title=\"Convert this dataframe to an interactive table.\"\n",
              "              style=\"display:none;\">\n",
              "        \n",
              "  <svg xmlns=\"http://www.w3.org/2000/svg\" height=\"24px\"viewBox=\"0 0 24 24\"\n",
              "       width=\"24px\">\n",
              "    <path d=\"M0 0h24v24H0V0z\" fill=\"none\"/>\n",
              "    <path d=\"M18.56 5.44l.94 2.06.94-2.06 2.06-.94-2.06-.94-.94-2.06-.94 2.06-2.06.94zm-11 1L8.5 8.5l.94-2.06 2.06-.94-2.06-.94L8.5 2.5l-.94 2.06-2.06.94zm10 10l.94 2.06.94-2.06 2.06-.94-2.06-.94-.94-2.06-.94 2.06-2.06.94z\"/><path d=\"M17.41 7.96l-1.37-1.37c-.4-.4-.92-.59-1.43-.59-.52 0-1.04.2-1.43.59L10.3 9.45l-7.72 7.72c-.78.78-.78 2.05 0 2.83L4 21.41c.39.39.9.59 1.41.59.51 0 1.02-.2 1.41-.59l7.78-7.78 2.81-2.81c.8-.78.8-2.07 0-2.86zM5.41 20L4 18.59l7.72-7.72 1.47 1.35L5.41 20z\"/>\n",
              "  </svg>\n",
              "      </button>\n",
              "      \n",
              "  <style>\n",
              "    .colab-df-container {\n",
              "      display:flex;\n",
              "      flex-wrap:wrap;\n",
              "      gap: 12px;\n",
              "    }\n",
              "\n",
              "    .colab-df-convert {\n",
              "      background-color: #E8F0FE;\n",
              "      border: none;\n",
              "      border-radius: 50%;\n",
              "      cursor: pointer;\n",
              "      display: none;\n",
              "      fill: #1967D2;\n",
              "      height: 32px;\n",
              "      padding: 0 0 0 0;\n",
              "      width: 32px;\n",
              "    }\n",
              "\n",
              "    .colab-df-convert:hover {\n",
              "      background-color: #E2EBFA;\n",
              "      box-shadow: 0px 1px 2px rgba(60, 64, 67, 0.3), 0px 1px 3px 1px rgba(60, 64, 67, 0.15);\n",
              "      fill: #174EA6;\n",
              "    }\n",
              "\n",
              "    [theme=dark] .colab-df-convert {\n",
              "      background-color: #3B4455;\n",
              "      fill: #D2E3FC;\n",
              "    }\n",
              "\n",
              "    [theme=dark] .colab-df-convert:hover {\n",
              "      background-color: #434B5C;\n",
              "      box-shadow: 0px 1px 3px 1px rgba(0, 0, 0, 0.15);\n",
              "      filter: drop-shadow(0px 1px 2px rgba(0, 0, 0, 0.3));\n",
              "      fill: #FFFFFF;\n",
              "    }\n",
              "  </style>\n",
              "\n",
              "      <script>\n",
              "        const buttonEl =\n",
              "          document.querySelector('#df-ecc8df70-985b-4bc7-85ed-2422a0589241 button.colab-df-convert');\n",
              "        buttonEl.style.display =\n",
              "          google.colab.kernel.accessAllowed ? 'block' : 'none';\n",
              "\n",
              "        async function convertToInteractive(key) {\n",
              "          const element = document.querySelector('#df-ecc8df70-985b-4bc7-85ed-2422a0589241');\n",
              "          const dataTable =\n",
              "            await google.colab.kernel.invokeFunction('convertToInteractive',\n",
              "                                                     [key], {});\n",
              "          if (!dataTable) return;\n",
              "\n",
              "          const docLinkHtml = 'Like what you see? Visit the ' +\n",
              "            '<a target=\"_blank\" href=https://colab.research.google.com/notebooks/data_table.ipynb>data table notebook</a>'\n",
              "            + ' to learn more about interactive tables.';\n",
              "          element.innerHTML = '';\n",
              "          dataTable['output_type'] = 'display_data';\n",
              "          await google.colab.output.renderOutput(dataTable, element);\n",
              "          const docLink = document.createElement('div');\n",
              "          docLink.innerHTML = docLinkHtml;\n",
              "          element.appendChild(docLink);\n",
              "        }\n",
              "      </script>\n",
              "    </div>\n",
              "  </div>\n",
              "  "
            ]
          },
          "metadata": {},
          "execution_count": 9
        }
      ],
      "source": [
        "cols = list(df.columns.values)\n",
        "cols.pop(cols.index('label'))\n",
        "df = df[cols+['label']]\n",
        "df"
      ]
    },
    {
      "cell_type": "markdown",
      "metadata": {
        "id": "okEx3yYzKsUk"
      },
      "source": [
        "# 5. Exploratory Data Analysis\n",
        "\n",
        "Exploratory Data Analysis (EDA) is an approach to analyzing data that is focused on understanding the patterns and relationships in the data, and identifying any potential biases or anomalies. EDA is typically an iterative process, in which the analyst repeatedly examines the data, generates hypotheses, and tests those hypotheses using statistical techniques or visualizations.\n",
        "\n",
        "The goal of EDA is to gain a deeper understanding of the data and to identify any interesting or unexpected patterns that might be worth further investigation. This understanding can then inform the development of machine learning models or other analysis tasks.\n",
        "\n",
        "In the context of this clickbait detection project, EDA might involve examining the distribution of clickbait and non-clickbait headlines in the dataset, looking for any patterns or trends that might be correlated with clickbait status. It might also involve exploring the characteristics of the headline text, such as the length of the headlines, the presence or absence of certain words or phrases, or the use of certain punctuation marks. By doing EDA, we can gain insights into the properties of the data that might be useful for building an effective clickbait detection system.\n",
        "\n",
        "## 5.1 Distribution of Clickbait and Non-Clickbait Headlines\n",
        "\n",
        "One simple way to do this is to use a histogram or bar plot to visualize the counts of clickbait and non-clickbait headlines. This can give us a sense of the overall balance of the dataset and whether there are any imbalances that might need to be addressed."
      ]
    },
    {
      "cell_type": "code",
      "execution_count": 10,
      "metadata": {
        "colab": {
          "base_uri": "https://localhost:8080/",
          "height": 452
        },
        "id": "pA6S3JEwKonf",
        "outputId": "8c509ba7-662e-4015-be87-21074390b196"
      },
      "outputs": [
        {
          "output_type": "display_data",
          "data": {
            "text/plain": [
              "<Figure size 640x480 with 1 Axes>"
            ],
            "image/png": "[encoded data removed]"
          },
          "metadata": {}
        }
      ],
      "source": [
        "# Count the number of clickbait and non-clickbait headlines\n",
        "clickbait_count = df[df['label'] == 1].shape[0]\n",
        "non_clickbait_count = df[df['label'] == 0].shape[0]\n",
        "\n",
        "# Set the labels and data for the bar plot\n",
        "labels = ['Clickbait', 'Non-clickbait']\n",
        "data = [clickbait_count, non_clickbait_count]\n",
        "\n",
        "# Create the bar plot\n",
        "plt.bar(labels, data)\n",
        "plt.title('Clickbait vs. Non-clickbait Headlines')\n",
        "plt.ylabel('Count')\n",
        "\n",
        "# Show the plot\n",
        "plt.show()"
      ]
    },
    {
      "cell_type": "markdown",
      "metadata": {
        "id": "ucU3cnEEOVuj"
      },
      "source": [
        "We can say that the dataset is well distributed and there is no imbalance."
      ]
    },
    {
      "cell_type": "markdown",
      "metadata": {
        "id": "YIs8oCpgN-zX"
      },
      "source": [
        "## 5.2 Distribution of Number of Words"
      ]
    },
    {
      "cell_type": "code",
      "execution_count": 11,
      "metadata": {
        "colab": {
          "base_uri": "https://localhost:8080/",
          "height": 472
        },
        "id": "DL7W_Z4kNLD7",
        "outputId": "42814d8b-5e05-440c-a63b-1832eed97a5c"
      },
      "outputs": [
        {
          "output_type": "display_data",
          "data": {
            "text/plain": [
              "<Figure size 640x480 with 1 Axes>"
            ],
            "image/png": "[encoded data removed]"
          },
          "metadata": {}
        }
      ],
      "source": [
        "# Separate data based on labels\n",
        "clickbait = df[df['label'] == 1]\n",
        "not_clickbait = df[df['label'] == 0]\n",
        "\n",
        "# Plot histograms of num_of_words feature for clickbait and not_clickbait\n",
        "plt.hist(clickbait['num_of_words'], alpha=0.5, label='Clickbait')\n",
        "plt.hist(not_clickbait['num_of_words'], alpha=0.5, label='Not Clickbait')\n",
        "\n",
        "# Add labels and legend\n",
        "plt.xlabel('Number of Words')\n",
        "plt.ylabel('Frequency')\n",
        "plt.title('Distribution of Number of Words in Titles')\n",
        "plt.legend(loc='upper right')\n",
        "\n",
        "# Show plot\n",
        "plt.show()\n"
      ]
    },
    {
      "cell_type": "markdown",
      "metadata": {
        "id": "nhB05iJyOXub"
      },
      "source": [
        "This plot shows the distribution of the number of words in the titles of clickbait and non-clickbait articles. The x-axis represents the number of words, while the y-axis represents the frequency or count of titles that have a certain number of words. The blue histogram shows the distribution of number of words in clickbait titles, and the orange histogram shows the distribution of number of words in non-clickbait titles. \n",
        "\n",
        "This plot suggests us that clickbait titles tend to have less words on average compared to non-clickbait titles."
      ]
    },
    {
      "cell_type": "markdown",
      "metadata": {
        "id": "4kWRvNXXOuJk"
      },
      "source": [
        "## 5.3 Distribution of Title Length"
      ]
    },
    {
      "cell_type": "code",
      "execution_count": 12,
      "metadata": {
        "colab": {
          "base_uri": "https://localhost:8080/",
          "height": 472
        },
        "id": "fGInxgpHNQrz",
        "outputId": "3f34d1b8-8107-44a2-fe23-0011cd7795d8"
      },
      "outputs": [
        {
          "output_type": "display_data",
          "data": {
            "text/plain": [
              "<Figure size 640x480 with 1 Axes>"
            ],
            "image/png": "[encoded data removed]"
          },
          "metadata": {}
        }
      ],
      "source": [
        "# Plot histograms of title_length feature for clickbait and not_clickbait\n",
        "plt.hist(clickbait['title_length'], alpha=0.5, label='Clickbait')\n",
        "plt.hist(not_clickbait['title_length'], alpha=0.5, label='Not Clickbait')\n",
        "\n",
        "# Add labels and legend\n",
        "plt.xlabel('Title Length')\n",
        "plt.ylabel('Frequency')\n",
        "plt.title('Distribution of Title Length in Titles')\n",
        "plt.legend(loc='upper right')\n",
        "\n",
        "# Show plot\n",
        "plt.show()\n"
      ]
    },
    {
      "cell_type": "markdown",
      "metadata": {
        "id": "uRXtobwsOzEr"
      },
      "source": [
        "We can use a similar plot for this case as well, and the plot clearly shows us there is a peak for the titles between 40-60 characters are tend to be a clickbait. However, it seems like if the title is really long, it's more likely to be non-clickbait."
      ]
    },
    {
      "cell_type": "markdown",
      "metadata": {
        "id": "hnKc4xHFPKHZ"
      },
      "source": [
        "## 5.4 Distribution of Number of Uppercase Letters"
      ]
    },
    {
      "cell_type": "code",
      "execution_count": 13,
      "metadata": {
        "colab": {
          "base_uri": "https://localhost:8080/",
          "height": 472
        },
        "id": "qPmxLvR7NYrB",
        "outputId": "58dcac8d-c958-4301-cd21-fa68775fbc6a"
      },
      "outputs": [
        {
          "output_type": "display_data",
          "data": {
            "text/plain": [
              "<Figure size 640x480 with 1 Axes>"
            ],
            "image/png": "[encoded data removed]"
          },
          "metadata": {}
        }
      ],
      "source": [
        "# Plot histograms of num_of_uppercase_letters feature for clickbait and not_clickbait\n",
        "plt.hist(clickbait['num_of_uppercase_letters'], alpha=0.5, label='Clickbait')\n",
        "plt.hist(not_clickbait['num_of_uppercase_letters'], alpha=0.5, label='Not Clickbait')\n",
        "\n",
        "# Add labels and legend\n",
        "plt.xlabel('Number of Uppercase Letters')\n",
        "plt.ylabel('Frequency')\n",
        "plt.title('Distribution of Number of Uppercase Letters in Titles')\n",
        "plt.legend(loc='upper right')\n",
        "\n",
        "# Show plot\n",
        "plt.show()\n"
      ]
    },
    {
      "cell_type": "markdown",
      "metadata": {
        "id": "RYsip_Q2PNMW"
      },
      "source": [
        "We tried to use the same structure for this plot again. But actually it seems like there is not really all-uppercase titles in the dataset and it just counts the first letters of the words, so it does not make sense at all. This feature might not be considered for training."
      ]
    },
    {
      "cell_type": "markdown",
      "metadata": {
        "id": "Z6DqftxdPklu"
      },
      "source": [
        "## 5.5 Presence of Numbers"
      ]
    },
    {
      "cell_type": "code",
      "execution_count": 14,
      "metadata": {
        "colab": {
          "base_uri": "https://localhost:8080/",
          "height": 468
        },
        "id": "juuj8P7IMJ8y",
        "outputId": "69d12500-b4ef-4fd7-ee62-40296e7de68f"
      },
      "outputs": [
        {
          "output_type": "execute_result",
          "data": {
            "text/plain": [
              "<Axes: xlabel='presence_of_numbers', ylabel='count'>"
            ]
          },
          "metadata": {},
          "execution_count": 14
        },
        {
          "output_type": "display_data",
          "data": {
            "text/plain": [
              "<Figure size 640x480 with 1 Axes>"
            ],
            "image/png": "[encoded data removed]"
          },
          "metadata": {}
        }
      ],
      "source": [
        "sns.countplot(data=df, x='presence_of_numbers', hue='label')"
      ]
    },
    {
      "cell_type": "markdown",
      "metadata": {
        "id": "ydU3tuckP3Gg"
      },
      "source": [
        "\n",
        "We can use a count plot using the Seaborn library, which displays the number of occurrences of each value in the categorical variable 'presence_of_numbers' on the x-axis. The plot also shows the distribution of the two categories of the target variable 'label' (clickbait and non-clickbait) using different colors.\n",
        "\n",
        "The plot helps visualize how the presence of numbers in the title affects the classification of titles as clickbait or not. If the distribution of the two categories varies significantly for a particular value of 'presence_of_numbers', it can be inferred that this feature is important for classification.\n",
        "\n",
        "For example, if the plot shows that a high percentage of titles with numbers are classified as clickbait, it suggests that the presence of numbers in the title is an important feature for predicting clickbait titles.\n",
        "\n",
        "**However, we can't see a clear correlation with the presence of numbers and clickbait. So it's also possible not to consider this feature in the future.**"
      ]
    },
    {
      "cell_type": "code",
      "execution_count": 15,
      "metadata": {
        "colab": {
          "base_uri": "https://localhost:8080/",
          "height": 468
        },
        "id": "nme-qKkqMNMx",
        "outputId": "52a3abeb-b781-46d6-b779-68770b0ad3da"
      },
      "outputs": [
        {
          "output_type": "execute_result",
          "data": {
            "text/plain": [
              "<Axes: xlabel='contains_exclamation', ylabel='count'>"
            ]
          },
          "metadata": {},
          "execution_count": 15
        },
        {
          "output_type": "display_data",
          "data": {
            "text/plain": [
              "<Figure size 640x480 with 1 Axes>"
            ],
            "image/png": "[encoded data removed]"
          },
          "metadata": {}
        }
      ],
      "source": [
        "sns.countplot(data=df, x='contains_exclamation', hue='label')"
      ]
    },
    {
      "cell_type": "markdown",
      "metadata": {
        "id": "gfQ0sKX0Qetl"
      },
      "source": [
        "Similarly, we can apply the same approach for the \"contains_exclamation\" feature and we can clearly see that if a title contains an exclamation, it tends to be a clickbait."
      ]
    },
    {
      "cell_type": "code",
      "execution_count": 16,
      "metadata": {
        "colab": {
          "base_uri": "https://localhost:8080/",
          "height": 468
        },
        "id": "y4243CC9M-GR",
        "outputId": "a5ef9fdf-df59-4e88-85ba-f6e899c317af"
      },
      "outputs": [
        {
          "output_type": "execute_result",
          "data": {
            "text/plain": [
              "<Axes: xlabel='contains_question_mark', ylabel='count'>"
            ]
          },
          "metadata": {},
          "execution_count": 16
        },
        {
          "output_type": "display_data",
          "data": {
            "text/plain": [
              "<Figure size 640x480 with 1 Axes>"
            ],
            "image/png": "[encoded data removed]"
          },
          "metadata": {}
        }
      ],
      "source": [
        "sns.countplot(data=df, x='contains_question_mark', hue='label')"
      ]
    },
    {
      "cell_type": "markdown",
      "metadata": {
        "id": "kSJiRJkYQQH_"
      },
      "source": [
        "It's also similar for the question mark."
      ]
    },
    {
      "cell_type": "markdown",
      "metadata": {
        "id": "feqMqU1-QvIm"
      },
      "source": [
        "# 6. Model Building\n",
        "\n",
        "For this part, we will consider some machine learning and deep learning models separately.\n",
        "\n",
        "# 6.1 Machine Learning Models\n",
        "\n",
        "We can start building our machine learning models. We are going to use several different machine learning models and compare their performance. We are going to use the following models:\n",
        "\n",
        "- **Logistic Regression:** is a simple and widely-used classification algorithm that is suitable for binary classification tasks, such as clickbait detection. It is a linear model that uses an equation to make predictions based on the input features, and it is easy to interpret and implement.\n",
        "\n",
        "- **Naive Bayes:** is another simple and popular classification algorithm that is based on the idea of applying Bayes' theorem with strong (naive) independence assumptions between the features. It is often used for text classification tasks and is known to be a fast and accurate classifier.\n",
        "\n",
        "- **Support Vector Machine:** is a powerful and versatile classification algorithm that can work well on a wide range of datasets. It uses a technique called the kernel trick to transform the data into a higher-dimensional space, where it can be separated by a hyperplane. SVM can handle datasets with high-dimensional features and can perform well even when the number of examples is small compared to the number of features.\n",
        "\n",
        "- **Random Forest:** is an ensemble learning method that combines multiple decision trees to make predictions. It is a powerful and robust classifier that can handle high-dimensional and noisy data, and it is resistant to overfitting.\n",
        "\n",
        "## 6.1.1 Choosing the Best Model\n",
        "To choose the best machine learning model for the Turkish news dataset, we can use a for loop to train and evaluate multiple models using 10-fold cross-validation and the accuracy metric.\n",
        "\n",
        "## 6.1.2 Splitting the Dataset\n",
        "\n",
        "Before we can train and evaluate the machine learning models, we need to split the dataset into training and test sets. We can do this using the train_test_split function from the sklearn.model_selection module."
      ]
    },
    {
      "cell_type": "code",
      "execution_count": 17,
      "metadata": {
        "id": "_nYKWgN9Ma8A"
      },
      "outputs": [],
      "source": [
        "X = df.drop(columns='label')\n",
        "y = df['label']\n",
        "\n",
        "X_train, X_test, y_train, y_test = train_test_split(X, y, test_size=0.2, random_state=42)"
      ]
    },
    {
      "cell_type": "markdown",
      "metadata": {
        "id": "UWndNcuM7gKA"
      },
      "source": [
        "## 6.1.3 Vectorizing the Dataset\n",
        "\n",
        "To convert the text data in the Turkish news dataset into a meaningful representation for machine learning models, we can use the TfidfVectorizer from the sklearn.feature_extraction.text module."
      ]
    },
    {
      "cell_type": "code",
      "execution_count": 18,
      "metadata": {
        "id": "kX-sBnLqRfcu"
      },
      "outputs": [],
      "source": [
        "tfidf = TfidfVectorizer(stop_words = stopwords.words('turkish'),ngram_range = (1,2))\n",
        "tfidf_text_train = tfidf.fit_transform(X_train['title'])\n",
        "tfidf_text_test = tfidf.transform(X_test['title'])\n",
        "\n",
        "X_train_ef = X_train.drop(columns='title')\n",
        "X_test_ef = X_test.drop(columns='title')"
      ]
    },
    {
      "cell_type": "markdown",
      "metadata": {
        "id": "TnOroDG37nm1"
      },
      "source": [
        "Now we can combine the features we created with the TfidfVectorizer output."
      ]
    },
    {
      "cell_type": "code",
      "execution_count": 19,
      "metadata": {
        "colab": {
          "base_uri": "https://localhost:8080/"
        },
        "id": "XD5MQgkDTHIG",
        "outputId": "c5263520-6a68-485a-99ac-c4f095cf360a"
      },
      "outputs": [
        {
          "output_type": "execute_result",
          "data": {
            "text/plain": [
              "(4008, 132258)"
            ]
          },
          "metadata": {},
          "execution_count": 19
        }
      ],
      "source": [
        "X_train = sparse.hstack([X_train_ef, tfidf_text_train]).tocsr()\n",
        "X_test = sparse.hstack([X_test_ef, tfidf_text_test]).tocsr()\n",
        "\n",
        "X_train.shape\n",
        "X_test.shape"
      ]
    },
    {
      "cell_type": "markdown",
      "metadata": {
        "id": "MeQETi5j7tBL"
      },
      "source": [
        "## 6.1.4 Training and Evaluation\n",
        "\n",
        "In this section, we train and evaluate the machine learning models that we have selected for the clickbait detection task using the Turkish news dataset. This involves splitting the dataset into training and test sets, training the models on the training set, and evaluating their performance on the test set.\n",
        "\n",
        "We compare the performance of the models using various evaluation metrics, such as accuracy, precision, recall, and f1-score. We may also use cross-validation to get a more robust estimate of the models' performance.\n",
        "\n",
        "After training and evaluating the models, we can compare their performance and choose the one that performs the best. We may also need to fine-tune the hyperparameters of the chosen model to further improve its performance."
      ]
    },
    {
      "cell_type": "code",
      "execution_count": 20,
      "metadata": {
        "colab": {
          "base_uri": "https://localhost:8080/"
        },
        "id": "X_ZjhsrRTJzB",
        "outputId": "4f6d5629-a405-47c7-f11c-97508b38deef"
      },
      "outputs": [
        {
          "output_type": "stream",
          "name": "stdout",
          "text": [
            "Model: LogisticRegression\n",
            "Accuracy: 0.878\n",
            "Confusion Matrix:\n",
            "[[1727  277]\n",
            " [ 211 1793]]\n",
            "Classification Report:\n",
            "              precision    recall  f1-score   support\n",
            "\n",
            "         0.0       0.89      0.86      0.88      2004\n",
            "         1.0       0.87      0.89      0.88      2004\n",
            "\n",
            "    accuracy                           0.88      4008\n",
            "   macro avg       0.88      0.88      0.88      4008\n",
            "weighted avg       0.88      0.88      0.88      4008\n",
            "\n",
            "--------------------------------------------------\n",
            "Model: MultinomialNB\n",
            "Accuracy: 0.559\n",
            "Confusion Matrix:\n",
            "[[2003    1]\n",
            " [1768  236]]\n",
            "Classification Report:\n",
            "              precision    recall  f1-score   support\n",
            "\n",
            "         0.0       0.53      1.00      0.69      2004\n",
            "         1.0       1.00      0.12      0.21      2004\n",
            "\n",
            "    accuracy                           0.56      4008\n",
            "   macro avg       0.76      0.56      0.45      4008\n",
            "weighted avg       0.76      0.56      0.45      4008\n",
            "\n",
            "--------------------------------------------------\n",
            "Model: LinearSVC\n",
            "Accuracy: 0.876\n",
            "Confusion Matrix:\n",
            "[[1741  263]\n",
            " [ 232 1772]]\n",
            "Classification Report:\n",
            "              precision    recall  f1-score   support\n",
            "\n",
            "         0.0       0.88      0.87      0.88      2004\n",
            "         1.0       0.87      0.88      0.88      2004\n",
            "\n",
            "    accuracy                           0.88      4008\n",
            "   macro avg       0.88      0.88      0.88      4008\n",
            "weighted avg       0.88      0.88      0.88      4008\n",
            "\n",
            "--------------------------------------------------\n",
            "Model: RandomForestClassifier\n",
            "Accuracy: 0.869\n",
            "Confusion Matrix:\n",
            "[[1607  397]\n",
            " [ 128 1876]]\n",
            "Classification Report:\n",
            "              precision    recall  f1-score   support\n",
            "\n",
            "         0.0       0.93      0.80      0.86      2004\n",
            "         1.0       0.83      0.94      0.88      2004\n",
            "\n",
            "    accuracy                           0.87      4008\n",
            "   macro avg       0.88      0.87      0.87      4008\n",
            "weighted avg       0.88      0.87      0.87      4008\n",
            "\n",
            "--------------------------------------------------\n"
          ]
        }
      ],
      "source": [
        "# Define the models\n",
        "lr_model = LogisticRegression(max_iter=10000)\n",
        "nb_model = MultinomialNB()\n",
        "svm_model = LinearSVC(max_iter=100000)\n",
        "rf_model = RandomForestClassifier()\n",
        "\n",
        "# Define the list of models to evaluate\n",
        "models = [lr_model, nb_model, svm_model, rf_model]\n",
        "\n",
        "# Evaluate each model\n",
        "for model in models:\n",
        "    # Fit the model to the training data\n",
        "    model.fit(X_train, y_train)\n",
        "    \n",
        "    # Make predictions on the test data\n",
        "    y_pred = model.predict(X_test)\n",
        "    \n",
        "    # Print the results\n",
        "\n",
        "    print(f'Model: {model.__class__.__name__}')\n",
        "    print(f'Accuracy: {accuracy_score(y_test, y_pred):.3f}')\n",
        "    print(f'Confusion Matrix:')\n",
        "    print(confusion_matrix(y_test, y_pred))\n",
        "    print(f'Classification Report:')\n",
        "    print(classification_report(y_test, y_pred))\n",
        "    print('--------------------------------------------------')"
      ]
    },
    {
      "cell_type": "markdown",
      "metadata": {
        "id": "lXgbyJ8W7X8v"
      },
      "source": [
        "Based on the results, it seems that the logistic regression and linear SVC models performed the best on the Turkish news dataset, with accuracy scores of 0.867 and 0.869, respectively. These models also had the highest f1-scores for both classes, indicating that they had a good balance of precision and recall. The random forest classifier also performed well, with an accuracy score of 0.850 and relatively high f1-scores for both classes.\n",
        "\n",
        "On the other hand, the naive Bayes model had the lowest accuracy score of 0.692 and relatively low f1-scores for both classes. This suggests that it may not be the most suitable model for this task.\n",
        "\n",
        "Overall, these results suggests us that the Logistic Regression, Linear SVC models are good candidates for detecting clickbait headlines in Turkish news articles. It may be worth further fine-tuning the hyperparameters of these models to see if their performance can be improved.\n",
        "\n",
        "So, from now on, we will only consider these two models."
      ]
    },
    {
      "cell_type": "markdown",
      "metadata": {
        "id": "2p0SE0rR7-9a"
      },
      "source": [
        "## 6.1.5 Cross Validation\n",
        "\n",
        "Cross-validation is a useful technique to evaluate the performance of a machine learning model on a dataset. It helps to reduce the variance of a model's performance estimate, which makes it more reliable.\n",
        "\n",
        "When we train a model on a given dataset and evaluate its performance, the model's performance may vary depending on the specific split of the data into training and test sets. This is called the variance of the model's performance estimate.\n",
        "\n",
        "Cross-validation helps to reduce this variance by training the model on different splits of the data and averaging the performance across the different splits. This gives us a more robust estimate of the model's performance, which is less sensitive to the specific split of the data.\n",
        "\n",
        "For example, in 10-fold cross-validation, we split the data into 10 folds and train the model 10 times, each time using a different fold as the test set and the remaining folds as the training set. The model's performance is then averaged across the 10 different evaluations.\n",
        "\n",
        "Cross-validation is especially useful when we have a small dataset, as it allows us to use more of the data for training and evaluation, which can lead to a better model.\n",
        "\n",
        "To perform cross-validation for the Logistic Regression and linear SVC models, we can use the cross_val_score function from scikit-learn's model_selection module."
      ]
    },
    {
      "cell_type": "code",
      "execution_count": 21,
      "metadata": {
        "colab": {
          "base_uri": "https://localhost:8080/"
        },
        "id": "f-s9yHC77U9b",
        "outputId": "bbc92984-5014-4e31-f7b1-e27311e59d30"
      },
      "outputs": [
        {
          "output_type": "stream",
          "name": "stdout",
          "text": [
            "Mean score: 0.869\n",
            "Standard deviation: 0.012\n"
          ]
        }
      ],
      "source": [
        "# Define the logistic regression model\n",
        "lr_model = LogisticRegression(max_iter=100000)\n",
        "\n",
        "# Perform 10-fold cross-validation on the model\n",
        "scores = cross_val_score(lr_model, X_train, y_train, cv=10)\n",
        "\n",
        "# Print the mean and standard deviation of the scores\n",
        "print(f'Mean score: {scores.mean():.3f}')\n",
        "print(f'Standard deviation: {scores.std():.3f}')"
      ]
    },
    {
      "cell_type": "code",
      "execution_count": 22,
      "metadata": {
        "colab": {
          "base_uri": "https://localhost:8080/"
        },
        "id": "agYhgmAn8HHj",
        "outputId": "62a30ffc-10ce-4aa7-ac6c-1727aa88c302"
      },
      "outputs": [
        {
          "output_type": "stream",
          "name": "stdout",
          "text": [
            "Mean score: 0.885\n",
            "Standard deviation: 0.011\n"
          ]
        }
      ],
      "source": [
        "# Define the linear SVC model\n",
        "svm_model = LinearSVC(max_iter=100000)\n",
        "\n",
        "# Perform 10-fold cross-validation on the model\n",
        "scores = cross_val_score(svm_model, X_train, y_train, cv=10)\n",
        "\n",
        "# Print the mean and standard deviation of the scores\n",
        "print(f'Mean score: {scores.mean():.3f}')\n",
        "print(f'Standard deviation: {scores.std():.3f}')"
      ]
    },
    {
      "cell_type": "markdown",
      "metadata": {
        "id": "5A_0oxSE8Iz7"
      },
      "source": [
        "The results of the cross-validation show that both Logistic Regression and Linear SVC perform well on the dataset, with mean scores of 0.860 and 0.880, respectively. The standard deviation of the scores is small, which means that the model's performance is consistent across different splits of the data.\n",
        "\n",
        "Both models seem to be suitable for this dataset, but Linear SVC seems to have a slightly higher mean score and lower standard deviation, which indicates that it may be a slightly better choice."
      ]
    },
    {
      "cell_type": "markdown",
      "metadata": {
        "id": "3tEwzkVK8MRT"
      },
      "source": [
        "## 6.1.6 Hyperparameter Tuning\n",
        "\n",
        "To further improve the performance of Linear SVC, we can try to optimize its hyperparameters. Hyperparameters are the parameters of a machine learning model that are not learned from the training data, but are set by the practitioner.\n",
        "\n",
        "Optimizing the hyperparameters of a model can help to improve its performance on the dataset, but it can also be time-consuming and require a lot of trial and error.\n",
        "\n",
        "One way to optimize the hyperparameters of a model is to use grid search. Grid search is a method of systematically training and evaluating a model for a range of different hyperparameter values, and selecting the best combination of values based on the model's performance.\n",
        "\n",
        "To use grid search for Linear SVC, we can define a grid of hyperparameter values that we want to explore, and use the GridSearchCV function from sklearn to perform the search.\n",
        "\n",
        "For example, the following code defines a grid of values for the C hyperparameter of Linear SVC, and performs a 10-fold cross-validation for each combination of values:"
      ]
    },
    {
      "cell_type": "code",
      "execution_count": 23,
      "metadata": {
        "id": "G3vKGicf8RX0",
        "colab": {
          "base_uri": "https://localhost:8080/"
        },
        "outputId": "ce638c78-333b-42f2-f246-9a1aa375a0a3"
      },
      "outputs": [
        {
          "output_type": "stream",
          "name": "stdout",
          "text": [
            "{'C': 1, 'penalty': 'l2'}\n",
            "0.8848271382543498\n"
          ]
        }
      ],
      "source": [
        "# Define the hyperparameter grid\n",
        "param_grid = {'C': [0.1, 1, 10, 100, 1000],\n",
        "              'penalty': ['l1', 'l2']\n",
        "             }\n",
        "\n",
        "\n",
        "# Create a GridSearchCV object\n",
        "grid = GridSearchCV(LinearSVC(max_iter=100000), param_grid, cv=10)\n",
        "\n",
        "# Fit the model to the training data\n",
        "grid.fit(X_train, y_train)\n",
        "\n",
        "# Print the best hyperparameters\n",
        "print(grid.best_params_)\n",
        "\n",
        "# Print the best score\n",
        "print(grid.best_score_)"
      ]
    },
    {
      "cell_type": "markdown",
      "metadata": {
        "id": "Fzr8DG4n8WjQ"
      },
      "source": [
        "## 6.1.7 Evaluate the Performance of the Tuned Model Using Test Data\n",
        "Now we can evaluate the performance of the tuned LinearSVC model on the test data. The test data is a set of data that the model has not seen before, and it is used to get an unbiased evaluation of the model's performance. By evaluating the model on the test data, we can see how well the model generalizes to new, unseen data. This is important because we want to make sure that the model is not overfitting to the training data, and that it can make accurate predictions on new, unseen data. By using the confusion matrix, we can get a better understanding of the model's performance, including the number of false positives and false negatives, and the overall accuracy of the model."
      ]
    },
    {
      "cell_type": "code",
      "execution_count": 24,
      "metadata": {
        "id": "u4XpLMPs8Z4J",
        "colab": {
          "base_uri": "https://localhost:8080/",
          "height": 767
        },
        "outputId": "1a6a2b07-e694-435e-eebf-7b0405dcf4e6"
      },
      "outputs": [
        {
          "output_type": "stream",
          "name": "stdout",
          "text": [
            "Accuracy: 0.876\n",
            "Classification Report:\n",
            "              precision    recall  f1-score   support\n",
            "\n",
            "         0.0       0.88      0.87      0.88      2004\n",
            "         1.0       0.87      0.88      0.88      2004\n",
            "\n",
            "    accuracy                           0.88      4008\n",
            "   macro avg       0.88      0.88      0.88      4008\n",
            "weighted avg       0.88      0.88      0.88      4008\n",
            "\n",
            "True Negatives: 1741\n",
            "False Positives: 263\n",
            "False Negatives: 232\n",
            "True Positives: 1772\n"
          ]
        },
        {
          "output_type": "display_data",
          "data": {
            "text/plain": [
              "<Figure size 640x480 with 2 Axes>"
            ],
            "image/png": "[encoded data removed]"
          },
          "metadata": {}
        }
      ],
      "source": [
        "# Instantiate the LinearSVC model with the optimized hyperparameters\n",
        "optimal_svc = LinearSVC(**grid.best_params_, max_iter=100000)\n",
        "\n",
        "# Fit the model to the training data\n",
        "optimal_svc.fit(X_train, y_train)\n",
        "\n",
        "# Make predictions on the test data\n",
        "y_pred = optimal_svc.predict(X_test)\n",
        "\n",
        "# Print the results\n",
        "print(f'Accuracy: {accuracy_score(y_test, y_pred):.3f}')\n",
        "print(f'Classification Report:')\n",
        "print(classification_report(y_test, y_pred))\n",
        "\n",
        "# Compute the confusion matrix values\n",
        "tn, fp, fn, tp = confusion_matrix(y_test, y_pred).ravel()\n",
        "\n",
        "# Plot the confusion matrix using seaborn\n",
        "sns.set(font_scale=1.5)\n",
        "cm = confusion_matrix(y_test, y_pred)\n",
        "sns.heatmap(cm, annot=True, fmt=\"d\")\n",
        "plt.title(\"Confusion Matrix\")\n",
        "plt.xlabel(\"Predicted Label\")\n",
        "plt.ylabel(\"True Label\")\n",
        "\n",
        "# Print the confusion matrix values\n",
        "print(\"True Negatives:\", tn)\n",
        "print(\"False Positives:\", fp)\n",
        "print(\"False Negatives:\", fn)\n",
        "print(\"True Positives:\", tp)\n",
        "\n",
        "# Show the plot\n",
        "plt.show()"
      ]
    },
    {
      "cell_type": "markdown",
      "metadata": {
        "id": "3PaUp0IV8d7-"
      },
      "source": [
        "Overall, the performance of the model seems to be quite good. The accuracy score is 87%, which means that the model is able to correctly classify headlines as clickbait or non-clickbait with a high degree of accuracy.\n",
        "\n",
        "In terms of the confusion matrix, we can see that the model is able to correctly classify 1721 headlines as non-clickbait (True Negatives) and 1762 headlines as clickbait (True Positives). However, there are also 283 headlines that were incorrectly classified as clickbait (False Positives) and 242 headlines that were incorrectly classified as non-clickbait (False Negatives).\n",
        "\n",
        "The classification report provides more detailed information about the performance of the model. In particular, the precision, recall, and f1-score for both clickbait and non-clickbait headlines are quite high, indicating that the model is performing well in terms of both precision (minimizing false positives) and recall (minimizing false negatives)."
      ]
    },
    {
      "cell_type": "markdown",
      "metadata": {
        "id": "l9h7MqQr8gQq"
      },
      "source": [
        "## 6.2 Deep Learning Models\n",
        "\n",
        "In our efforts to develop a robust clickbait detection model, we have tried and tested several machine learning models, including logistic regression, naive bayes, random forests, and support vector machines. While some of these models performed reasonably well, we believe that a more sophisticated approach is required to capture the complex relationships between the different features in our dataset.\n",
        "\n",
        "Therefore, we have decided to explore the use of LSTM (Long Short-Term Memory) neural networks for clickbait detection. LSTM networks are a type of recurrent neural network that have been shown to perform exceptionally well in sequential data processing tasks, such as natural language processing and time series analysis.\n",
        "\n",
        "One of the key advantages of LSTM networks is their ability to learn long-term dependencies in sequential data, which is crucial for clickbait detection. Clickbait headlines often rely on subtle cues, such as unusual word combinations or unusual punctuation marks, that are difficult to capture with traditional machine learning models. LSTM networks can learn to recognize these subtle patterns by processing the text input in a sequential manner, thereby improving the overall accuracy of the model.\n",
        "\n",
        "In addition, LSTMs are designed to address the problem of vanishing gradients, which can occur when training deep neural networks. The vanishing gradients problem occurs when the gradients of the loss function with respect to the parameters of the network become extremely small, making it difficult to update the parameters during training. LSTMs use a gating mechanism to selectively remember or forget previous inputs, which helps to mitigate the vanishing gradients problem.\n",
        "\n",
        "Overall, we believe that LSTM networks hold significant promise for clickbait detection, and we are excited to see how they perform on our dataset.\n",
        "\n",
        "We will start the process for the deep learning section of the project from the feature engineering part. Now we have the df with new features and we will load, split and preprocess it again.\n",
        "\n",
        "## 6.2.1 Loading and Splitting the Data\n",
        "\n",
        "We start with loading the dataset and splitting it into training, validation, and test sets using the train_test_split function."
      ]
    },
    {
      "cell_type": "code",
      "execution_count": 10,
      "metadata": {
        "id": "6uQnXXKx-Z79"
      },
      "outputs": [],
      "source": [
        "df_train, df_test = train_test_split(df, test_size=0.2, random_state=42)\n",
        "\n",
        "df_train, df_val = train_test_split(df_train, test_size=0.2, random_state=42)"
      ]
    },
    {
      "cell_type": "markdown",
      "metadata": {
        "id": "18Qs-GJf-bK3"
      },
      "source": [
        "## 6.2.2 Preprocessing the Data\n",
        "\n",
        "Preprocessing the text data by tokenizing and padding the sequences to a fixed length. Also, preparing input features for the model."
      ]
    },
    {
      "cell_type": "code",
      "execution_count": 11,
      "metadata": {
        "id": "3JKVA4Ze-zpR"
      },
      "outputs": [],
      "source": [
        "MAX_NUM_WORDS = 10000\n",
        "MAX_SEQ_LENGTH = 100\n",
        "EMBEDDING_SIZE = 100\n",
        "\n",
        "tokenizer = Tokenizer(num_words=MAX_NUM_WORDS)\n",
        "tokenizer.fit_on_texts(df_train['title'])\n",
        "\n",
        "train_sequences = tokenizer.texts_to_sequences(df_train['title'])\n",
        "train_padded_sequences = pad_sequences(train_sequences, maxlen=MAX_SEQ_LENGTH)\n",
        "\n",
        "val_sequences = tokenizer.texts_to_sequences(df_val['title'])\n",
        "val_padded_sequences = pad_sequences(val_sequences, maxlen=MAX_SEQ_LENGTH)\n",
        "\n",
        "test_sequences = tokenizer.texts_to_sequences(df_test['title'])\n",
        "test_padded_sequences = pad_sequences(test_sequences, maxlen=MAX_SEQ_LENGTH)\n",
        "\n",
        "train_features = df_train[['contains_exclamation', 'contains_question_mark', 'title_length', 'num_of_words', 'num_of_uppercase_letters', 'presence_of_numbers', 'clickbait_words_count']].values\n",
        "val_features = df_val[['contains_exclamation', 'contains_question_mark', 'title_length', 'num_of_words', 'num_of_uppercase_letters', 'presence_of_numbers', 'clickbait_words_count']].values\n",
        "test_features = df_test[['contains_exclamation', 'contains_question_mark', 'title_length', 'num_of_words', 'num_of_uppercase_letters', 'presence_of_numbers', 'clickbait_words_count']].values\n"
      ]
    },
    {
      "cell_type": "markdown",
      "metadata": {
        "id": "wVDIa8l3-1CF"
      },
      "source": [
        "## 6.2.3 Defining the LSTM Architecture\n",
        "Defining the model architecture using Keras functional API. The model consists of an input layer for the text data, an embedding layer to represent the text in a dense vector space, an LSTM layer to extract features from the text, a layer to merge text features with input features, a dropout layer for regularization, and a dense output layer for binary classification.\n",
        "\n"
      ]
    },
    {
      "cell_type": "code",
      "execution_count": 12,
      "metadata": {
        "id": "SRqlc9Ts-5ID",
        "colab": {
          "base_uri": "https://localhost:8080/"
        },
        "outputId": "6b5c0680-1f8b-4e70-b229-1f69d675cca6"
      },
      "outputs": [
        {
          "output_type": "stream",
          "name": "stdout",
          "text": [
            "Model: \"model\"\n",
            "__________________________________________________________________________________________________\n",
            " Layer (type)                   Output Shape         Param #     Connected to                     \n",
            "==================================================================================================\n",
            " title_input (InputLayer)       [(None, 100)]        0           []                               \n",
            "                                                                                                  \n",
            " embedding (Embedding)          (None, 100, 100)     1000000     ['title_input[0][0]']            \n",
            "                                                                                                  \n",
            " lstm_layer (LSTM)              (None, 64)           42240       ['embedding[0][0]']              \n",
            "                                                                                                  \n",
            " features_input (InputLayer)    [(None, 7)]          0           []                               \n",
            "                                                                                                  \n",
            " concatenate (Concatenate)      (None, 71)           0           ['lstm_layer[0][0]',             \n",
            "                                                                  'features_input[0][0]']         \n",
            "                                                                                                  \n",
            " dropout (Dropout)              (None, 71)           0           ['concatenate[0][0]']            \n",
            "                                                                                                  \n",
            " output (Dense)                 (None, 1)            72          ['dropout[0][0]']                \n",
            "                                                                                                  \n",
            "==================================================================================================\n",
            "Total params: 1,042,312\n",
            "Trainable params: 1,042,312\n",
            "Non-trainable params: 0\n",
            "__________________________________________________________________________________________________\n"
          ]
        }
      ],
      "source": [
        "lstm_units = 64\n",
        "dropout_rate = 0.1\n",
        "\n",
        "title_input = Input(shape=(MAX_SEQ_LENGTH,), name='title_input')\n",
        "embedding_layer = Embedding(input_dim=MAX_NUM_WORDS, output_dim=EMBEDDING_SIZE, input_length=MAX_SEQ_LENGTH, name='embedding')(title_input)\n",
        "lstm_layer = LSTM(units=lstm_units, name='lstm_layer')(embedding_layer)\n",
        "\n",
        "features_input = Input(shape=(7,), name='features_input')\n",
        "merged_layer = tf.keras.layers.concatenate([lstm_layer, features_input])\n",
        "\n",
        "dropout_layer = Dropout(rate=dropout_rate, name='dropout')(merged_layer)\n",
        "output_layer = Dense(units=1, activation='sigmoid', name='output')(dropout_layer)\n",
        "\n",
        "model = Model(inputs=[title_input, features_input], outputs=output_layer)\n",
        "\n",
        "model.summary()\n"
      ]
    },
    {
      "cell_type": "markdown",
      "metadata": {
        "id": "nxfxRflW-60q"
      },
      "source": [
        "## 6.2.3.1 Compiling and Training the LSTM Model\n",
        "\n",
        "Compiling and training the model on the training set is done using the compile() and fit() methods respectively. In this case, we compile the model using the binary cross-entropy loss function, the Adam optimizer, and accuracy as the evaluation metric."
      ]
    },
    {
      "cell_type": "code",
      "execution_count": 13,
      "metadata": {
        "id": "FemjNKKb_DnI",
        "colab": {
          "base_uri": "https://localhost:8080/"
        },
        "outputId": "a3fc7724-f1c8-45b1-abdf-20a24147f6e8"
      },
      "outputs": [
        {
          "output_type": "stream",
          "name": "stdout",
          "text": [
            "Epoch 1/20\n",
            "201/201 [==============================] - 40s 183ms/step - loss: 1.1370 - accuracy: 0.4913 - val_loss: 0.6077 - val_accuracy: 0.6856\n",
            "Epoch 2/20\n",
            "201/201 [==============================] - 37s 185ms/step - loss: 0.6373 - accuracy: 0.7007 - val_loss: 0.4982 - val_accuracy: 0.7464\n",
            "Epoch 3/20\n",
            "201/201 [==============================] - 33s 163ms/step - loss: 0.4933 - accuracy: 0.7725 - val_loss: 0.4354 - val_accuracy: 0.7876\n",
            "Epoch 4/20\n",
            "201/201 [==============================] - 35s 174ms/step - loss: 0.4024 - accuracy: 0.8199 - val_loss: 0.4001 - val_accuracy: 0.8094\n",
            "Epoch 5/20\n",
            "201/201 [==============================] - 33s 167ms/step - loss: 0.3302 - accuracy: 0.8567 - val_loss: 0.4183 - val_accuracy: 0.8016\n",
            "Epoch 6/20\n",
            "201/201 [==============================] - 33s 165ms/step - loss: 0.2825 - accuracy: 0.8802 - val_loss: 0.3624 - val_accuracy: 0.8356\n",
            "Epoch 7/20\n",
            "201/201 [==============================] - 36s 178ms/step - loss: 0.2364 - accuracy: 0.9047 - val_loss: 0.3607 - val_accuracy: 0.8409\n",
            "Epoch 8/20\n",
            "201/201 [==============================] - 32s 162ms/step - loss: 0.2066 - accuracy: 0.9205 - val_loss: 0.3721 - val_accuracy: 0.8356\n",
            "Epoch 9/20\n",
            "201/201 [==============================] - 35s 172ms/step - loss: 0.1787 - accuracy: 0.9327 - val_loss: 0.3749 - val_accuracy: 0.8425\n",
            "Epoch 10/20\n",
            "201/201 [==============================] - 33s 165ms/step - loss: 0.1599 - accuracy: 0.9388 - val_loss: 0.3896 - val_accuracy: 0.8347\n",
            "Epoch 11/20\n",
            "201/201 [==============================] - 35s 173ms/step - loss: 0.1419 - accuracy: 0.9497 - val_loss: 0.3904 - val_accuracy: 0.8434\n",
            "Epoch 12/20\n",
            "201/201 [==============================] - 33s 165ms/step - loss: 0.1250 - accuracy: 0.9542 - val_loss: 0.4105 - val_accuracy: 0.8428\n",
            "Epoch 13/20\n",
            "201/201 [==============================] - 33s 166ms/step - loss: 0.1136 - accuracy: 0.9605 - val_loss: 0.4112 - val_accuracy: 0.8425\n",
            "Epoch 14/20\n",
            "201/201 [==============================] - 34s 167ms/step - loss: 0.1020 - accuracy: 0.9643 - val_loss: 0.4335 - val_accuracy: 0.8450\n",
            "Epoch 15/20\n",
            "201/201 [==============================] - 33s 166ms/step - loss: 0.0909 - accuracy: 0.9693 - val_loss: 0.4550 - val_accuracy: 0.8397\n",
            "Epoch 16/20\n",
            "201/201 [==============================] - 36s 179ms/step - loss: 0.1337 - accuracy: 0.9570 - val_loss: 0.3553 - val_accuracy: 0.8481\n",
            "Epoch 17/20\n",
            "201/201 [==============================] - 33s 166ms/step - loss: 0.1016 - accuracy: 0.9690 - val_loss: 0.3804 - val_accuracy: 0.8487\n",
            "Epoch 18/20\n",
            "201/201 [==============================] - 33s 165ms/step - loss: 0.0908 - accuracy: 0.9710 - val_loss: 0.4001 - val_accuracy: 0.8475\n",
            "Epoch 19/20\n",
            "201/201 [==============================] - 32s 162ms/step - loss: 0.0807 - accuracy: 0.9753 - val_loss: 0.4179 - val_accuracy: 0.8462\n",
            "Epoch 20/20\n",
            "201/201 [==============================] - 35s 174ms/step - loss: 0.0756 - accuracy: 0.9771 - val_loss: 0.4343 - val_accuracy: 0.8444\n"
          ]
        }
      ],
      "source": [
        "opt = tf.keras.optimizers.Adam(learning_rate=0.0001)\n",
        "# Compile model\n",
        "model.compile(loss='binary_crossentropy', optimizer=opt, metrics=['accuracy'])\n",
        "\n",
        "# Train model on training set\n",
        "batch_size = 64\n",
        "epochs = 20\n",
        "\n",
        "history = model.fit([train_padded_sequences, train_features], df_train['label'].values, batch_size=batch_size, epochs=epochs, validation_data=([val_padded_sequences, val_features], df_val['label'].values))\n"
      ]
    },
    {
      "cell_type": "markdown",
      "metadata": {
        "id": "-kxbTCvg_FGS"
      },
      "source": [
        "The fit() method trains the model on the training set and validates it on the validation set. It takes as input the padded sequences and features of the training set and validation set, the labels of the training set and validation set, the batch size, the number of epochs, and the validation data. The training history is stored in the history object, which can be used to visualize the training and validation accuracy and loss over the epochs."
      ]
    },
    {
      "cell_type": "markdown",
      "metadata": {
        "id": "DI68GR-0_Jj1"
      },
      "source": [
        "## 6.2.3.2 Evaluating the Model\n",
        "\n",
        "The trained model can be evaluated on the test set using the evaluate() method. It takes as input the padded sequences and features of the test set, the labels of the test set, and the batch size. The method returns the test loss and test accuracy."
      ]
    },
    {
      "cell_type": "code",
      "execution_count": 14,
      "metadata": {
        "id": "th0-Oo3Q_HH3",
        "colab": {
          "base_uri": "https://localhost:8080/"
        },
        "outputId": "a22138b7-730d-4c2b-c839-ae5dba418abb"
      },
      "outputs": [
        {
          "output_type": "stream",
          "name": "stdout",
          "text": [
            "63/63 [==============================] - 3s 41ms/step - loss: 0.4656 - accuracy: 0.8391\n",
            "Test loss: 0.4656219780445099\n",
            "Test accuracy: 0.8390718698501587\n"
          ]
        }
      ],
      "source": [
        "# Evaluate model on test set\n",
        "score = model.evaluate([test_padded_sequences, test_features], df_test['label'].values, batch_size=batch_size)\n",
        "print('Test loss:', score[0])\n",
        "print('Test accuracy:', score[1])"
      ]
    },
    {
      "cell_type": "markdown",
      "metadata": {
        "id": "JKEADUNq_Zq5"
      },
      "source": [
        "\n",
        "## 6.2.3.3 Visualizing the Training History\n",
        "The training history can be visualized using the matplotlib library. This can help us to understand how well the model is learning and if there is any overfitting or underfitting."
      ]
    },
    {
      "cell_type": "code",
      "execution_count": 15,
      "metadata": {
        "id": "1CSI2B7C_blz",
        "colab": {
          "base_uri": "https://localhost:8080/",
          "height": 927
        },
        "outputId": "376f1e55-e1a2-41b5-9642-afc4bcc977ab"
      },
      "outputs": [
        {
          "output_type": "display_data",
          "data": {
            "text/plain": [
              "<Figure size 640x480 with 1 Axes>"
            ],
            "image/png": "[encoded data removed]"
          },
          "metadata": {}
        },
        {
          "output_type": "display_data",
          "data": {
            "text/plain": [
              "<Figure size 640x480 with 1 Axes>"
            ],
            "image/png": "[encoded data removed]"
          },
          "metadata": {}
        }
      ],
      "source": [
        "import matplotlib.pyplot as plt\n",
        "\n",
        "# Plot training and validation accuracy\n",
        "plt.plot(history.history['accuracy'])\n",
        "plt.plot(history.history['val_accuracy'])\n",
        "plt.title('Model accuracy')\n",
        "plt.ylabel('Accuracy')\n",
        "plt.xlabel('Epoch')\n",
        "plt.legend(['Train', 'Validation'], loc='upper left')\n",
        "plt.show()\n",
        "\n",
        "# Plot training and validation loss\n",
        "plt.plot(history.history['loss'])\n",
        "plt.plot(history.history['val_loss'])\n",
        "plt.title('Model loss')\n",
        "plt.ylabel('Loss')\n",
        "plt.xlabel('Epoch')\n",
        "plt.legend(['Train', 'Validation'], loc='upper left')\n",
        "plt.show()\n"
      ]
    },
    {
      "cell_type": "markdown",
      "metadata": {
        "id": "8BN4loPu_dcR"
      },
      "source": [
        "The training and validation accuracy should normally increase over the epochs, while the training and validation loss should decrease. If the validation loss starts to increase while the training loss continues to decrease, this could be a sign of overfitting as we can see here.\n",
        "\n",
        "So, we can also try to use Bidirectional LSTM to see if we are getting better results or not.\n",
        "\n",
        "## 6.2.4 Defining the Bidirectional LSTM Architecture\n",
        "\n",
        "Apart from the previous architecture, we are now using a Bidirectional LSTM layer with L2 regularizer and the rest is same."
      ]
    },
    {
      "cell_type": "code",
      "execution_count": 31,
      "metadata": {
        "id": "bYb2Sd3eHKTq",
        "colab": {
          "base_uri": "https://localhost:8080/"
        },
        "outputId": "9ba00c93-b0ca-4e3e-8fc6-7d184e0090f0"
      },
      "outputs": [
        {
          "output_type": "stream",
          "name": "stdout",
          "text": [
            "Model: \"model_1\"\n",
            "__________________________________________________________________________________________________\n",
            " Layer (type)                   Output Shape         Param #     Connected to                     \n",
            "==================================================================================================\n",
            " title_input (InputLayer)       [(None, 100)]        0           []                               \n",
            "                                                                                                  \n",
            " embedding (Embedding)          (None, 100, 100)     1000000     ['title_input[0][0]']            \n",
            "                                                                                                  \n",
            " bidirectional (Bidirectional)  (None, 128)          84480       ['embedding[0][0]']              \n",
            "                                                                                                  \n",
            " features_input (InputLayer)    [(None, 7)]          0           []                               \n",
            "                                                                                                  \n",
            " concatenate_1 (Concatenate)    (None, 135)          0           ['bidirectional[0][0]',          \n",
            "                                                                  'features_input[0][0]']         \n",
            "                                                                                                  \n",
            " dropout (Dropout)              (None, 135)          0           ['concatenate_1[0][0]']          \n",
            "                                                                                                  \n",
            " output (Dense)                 (None, 1)            136         ['dropout[0][0]']                \n",
            "                                                                                                  \n",
            "==================================================================================================\n",
            "Total params: 1,084,616\n",
            "Trainable params: 1,084,616\n",
            "Non-trainable params: 0\n",
            "__________________________________________________________________________________________________\n"
          ]
        }
      ],
      "source": [
        "lstm_units = 64\n",
        "dropout_rate = 0.1\n",
        "l2_lambda = 0.01\n",
        "\n",
        "title_input = Input(shape=(MAX_SEQ_LENGTH,), name='title_input')\n",
        "embedding_layer = Embedding(input_dim=MAX_NUM_WORDS, output_dim=EMBEDDING_SIZE, input_length=MAX_SEQ_LENGTH, name='embedding')(title_input)\n",
        "lstm_layer = Bidirectional(LSTM(units=lstm_units, kernel_regularizer=tf.keras.regularizers.l2(l2_lambda), name='lstm_layer'))(embedding_layer)\n",
        "\n",
        "features_input = Input(shape=(7,), name='features_input')\n",
        "merged_layer = tf.keras.layers.concatenate([lstm_layer, features_input])\n",
        "\n",
        "dropout_layer = Dropout(rate=dropout_rate, name='dropout')(merged_layer)\n",
        "output_layer = Dense(units=1, activation='sigmoid', name='output')(dropout_layer)\n",
        "\n",
        "model = Model(inputs=[title_input, features_input], outputs=output_layer)\n",
        "\n",
        "model.summary()\n"
      ]
    },
    {
      "cell_type": "markdown",
      "metadata": {
        "id": "Ox2r7R61IJ94"
      },
      "source": [
        "## 6.2.4.1 Compiling and Training the Bidirectional LSTM Model\n",
        "\n",
        "Compiling and training the model on the training set is done using the compile() and fit() methods respectively. In this case, we compile the model using the binary cross-entropy loss function, the Adam optimizer, and accuracy as the evaluation metric again."
      ]
    },
    {
      "cell_type": "code",
      "execution_count": 32,
      "metadata": {
        "id": "RV4ktiJqHNIb",
        "colab": {
          "base_uri": "https://localhost:8080/"
        },
        "outputId": "e3126467-471d-4c60-af87-f77bebee105a"
      },
      "outputs": [
        {
          "output_type": "stream",
          "name": "stdout",
          "text": [
            "Epoch 1/20\n",
            "201/201 [==============================] - 60s 275ms/step - loss: 3.7752 - accuracy: 0.3634 - val_loss: 2.7346 - val_accuracy: 0.2923\n",
            "Epoch 2/20\n",
            "201/201 [==============================] - 57s 284ms/step - loss: 2.2586 - accuracy: 0.5744 - val_loss: 1.7198 - val_accuracy: 0.7274\n",
            "Epoch 3/20\n",
            "201/201 [==============================] - 57s 283ms/step - loss: 1.4796 - accuracy: 0.7549 - val_loss: 1.2343 - val_accuracy: 0.7682\n",
            "Epoch 4/20\n",
            "201/201 [==============================] - 55s 275ms/step - loss: 1.0582 - accuracy: 0.7984 - val_loss: 0.9202 - val_accuracy: 0.7913\n",
            "Epoch 5/20\n",
            "201/201 [==============================] - 56s 281ms/step - loss: 0.7796 - accuracy: 0.8271 - val_loss: 0.7348 - val_accuracy: 0.8004\n",
            "Epoch 6/20\n",
            "201/201 [==============================] - 56s 281ms/step - loss: 0.5984 - accuracy: 0.8496 - val_loss: 0.6138 - val_accuracy: 0.8060\n",
            "Epoch 7/20\n",
            "201/201 [==============================] - 57s 282ms/step - loss: 0.4801 - accuracy: 0.8681 - val_loss: 0.5227 - val_accuracy: 0.8213\n",
            "Epoch 8/20\n",
            "201/201 [==============================] - 55s 276ms/step - loss: 0.3978 - accuracy: 0.8861 - val_loss: 0.4627 - val_accuracy: 0.8316\n",
            "Epoch 9/20\n",
            "201/201 [==============================] - 59s 293ms/step - loss: 0.3449 - accuracy: 0.8987 - val_loss: 0.4619 - val_accuracy: 0.8253\n",
            "Epoch 10/20\n",
            "201/201 [==============================] - 56s 281ms/step - loss: 0.2982 - accuracy: 0.9125 - val_loss: 0.4345 - val_accuracy: 0.8353\n",
            "Epoch 11/20\n",
            "201/201 [==============================] - 56s 279ms/step - loss: 0.2706 - accuracy: 0.9226 - val_loss: 0.4434 - val_accuracy: 0.8325\n",
            "Epoch 12/20\n",
            "201/201 [==============================] - 57s 283ms/step - loss: 0.2480 - accuracy: 0.9274 - val_loss: 0.4300 - val_accuracy: 0.8403\n",
            "Epoch 13/20\n",
            "201/201 [==============================] - 57s 284ms/step - loss: 0.2250 - accuracy: 0.9375 - val_loss: 0.4421 - val_accuracy: 0.8366\n",
            "Epoch 14/20\n",
            "201/201 [==============================] - 55s 275ms/step - loss: 0.2072 - accuracy: 0.9412 - val_loss: 0.4304 - val_accuracy: 0.8431\n",
            "Epoch 15/20\n",
            "201/201 [==============================] - 55s 273ms/step - loss: 0.1894 - accuracy: 0.9463 - val_loss: 0.4551 - val_accuracy: 0.8372\n",
            "Epoch 16/20\n",
            "201/201 [==============================] - 57s 284ms/step - loss: 0.1769 - accuracy: 0.9511 - val_loss: 0.4570 - val_accuracy: 0.8341\n",
            "Epoch 17/20\n",
            "201/201 [==============================] - 57s 284ms/step - loss: 0.1652 - accuracy: 0.9570 - val_loss: 0.4446 - val_accuracy: 0.8359\n",
            "Epoch 18/20\n",
            "201/201 [==============================] - 56s 280ms/step - loss: 0.1547 - accuracy: 0.9582 - val_loss: 0.4790 - val_accuracy: 0.8356\n",
            "Epoch 19/20\n",
            "201/201 [==============================] - 57s 283ms/step - loss: 0.1436 - accuracy: 0.9626 - val_loss: 0.4563 - val_accuracy: 0.8387\n",
            "Epoch 20/20\n",
            "201/201 [==============================] - 57s 283ms/step - loss: 0.1366 - accuracy: 0.9637 - val_loss: 0.4951 - val_accuracy: 0.8344\n"
          ]
        }
      ],
      "source": [
        "opt = tf.keras.optimizers.Adam(learning_rate=0.0001)\n",
        "# Compile model\n",
        "model.compile(loss='binary_crossentropy', optimizer=opt, metrics=['accuracy'])\n",
        "\n",
        "# Train model on training set\n",
        "batch_size = 64\n",
        "epochs = 20\n",
        "\n",
        "history = model.fit([train_padded_sequences, train_features], df_train['label'].values, batch_size=batch_size, epochs=epochs, validation_data=([val_padded_sequences, val_features], df_val['label'].values))\n"
      ]
    },
    {
      "cell_type": "markdown",
      "metadata": {
        "id": "DawYdaFQITsD"
      },
      "source": [
        "## 6.2.4.2 Evaluating the Model"
      ]
    },
    {
      "cell_type": "code",
      "execution_count": 33,
      "metadata": {
        "id": "avvkkw4yITsD",
        "colab": {
          "base_uri": "https://localhost:8080/"
        },
        "outputId": "ce37e470-4896-4c9a-95d8-8e64f487ef4a"
      },
      "outputs": [
        {
          "output_type": "stream",
          "name": "stdout",
          "text": [
            "63/63 [==============================] - 5s 81ms/step - loss: 0.5384 - accuracy: 0.8318\n",
            "Test loss: 0.5384488105773926\n",
            "Test accuracy: 0.8318363428115845\n"
          ]
        }
      ],
      "source": [
        "# Evaluate model on test set\n",
        "score = model.evaluate([test_padded_sequences, test_features], df_test['label'].values, batch_size=batch_size)\n",
        "print('Test loss:', score[0])\n",
        "print('Test accuracy:', score[1])"
      ]
    },
    {
      "cell_type": "markdown",
      "metadata": {
        "id": "GGXdOAZLITsD"
      },
      "source": [
        "\n",
        "## 6.2.4.3 Visualizing the Training History"
      ]
    },
    {
      "cell_type": "code",
      "execution_count": 34,
      "metadata": {
        "id": "xItDHw72ITsD",
        "colab": {
          "base_uri": "https://localhost:8080/",
          "height": 981
        },
        "outputId": "bd4faba2-0a7c-4c42-cf46-9d0f265f896e"
      },
      "outputs": [
        {
          "output_type": "display_data",
          "data": {
            "text/plain": [
              "<Figure size 640x480 with 1 Axes>"
            ],
            "image/png": "[encoded data removed]"
          },
          "metadata": {}
        },
        {
          "output_type": "display_data",
          "data": {
            "text/plain": [
              "<Figure size 640x480 with 1 Axes>"
            ],
            "image/png": "[encoded data removed]"
          },
          "metadata": {}
        }
      ],
      "source": [
        "import matplotlib.pyplot as plt\n",
        "\n",
        "# Plot training and validation accuracy\n",
        "plt.plot(history.history['accuracy'])\n",
        "plt.plot(history.history['val_accuracy'])\n",
        "plt.title('Model accuracy')\n",
        "plt.ylabel('Accuracy')\n",
        "plt.xlabel('Epoch')\n",
        "plt.legend(['Train', 'Validation'], loc='upper left')\n",
        "plt.show()\n",
        "\n",
        "# Plot training and validation loss\n",
        "plt.plot(history.history['loss'])\n",
        "plt.plot(history.history['val_loss'])\n",
        "plt.title('Model loss')\n",
        "plt.ylabel('Loss')\n",
        "plt.xlabel('Epoch')\n",
        "plt.legend(['Train', 'Validation'], loc='upper left')\n",
        "plt.show()\n"
      ]
    },
    {
      "cell_type": "markdown",
      "metadata": {
        "id": "52k3E-ZlITsD"
      },
      "source": [
        "The training and validation accuracy should normally increase over the epochs, while the training and validation loss should decrease. If the validation loss starts to increase while the training loss continues to decrease, this could be a sign of overfitting, which is happening again, however it seems slightly better than the previous model.\n",
        "\n",
        "It seems like our dataset is not extensive enough to get better results with deep learning techniques. Several tuning methods and different architectures has already been tried but the results were always close to these results.\n",
        "\n"
      ]
    },
    {
      "cell_type": "code",
      "source": [
        "# Predict labels of test set\n",
        "y_pred = model.predict([test_padded_sequences, test_features])\n",
        "y_pred = (y_pred > 0.5).astype(int)\n",
        "\n",
        "\n",
        "print(f'Classification Report:')\n",
        "print(classification_report(df_test['label'].values, y_pred))\n",
        "\n",
        "# Compute the confusion matrix values\n",
        "tn, fp, fn, tp = confusion_matrix(df_test['label'].values, y_pred).ravel()\n",
        "\n",
        "# Plot the confusion matrix using seaborn\n",
        "sns.set(font_scale=1.5)\n",
        "cm = confusion_matrix(df_test['label'].values, y_pred)\n",
        "sns.heatmap(cm, annot=True, fmt=\"d\")\n",
        "plt.title(\"Confusion Matrix\")\n",
        "plt.xlabel(\"Predicted Label\")\n",
        "plt.ylabel(\"True Label\")\n",
        "\n",
        "# Print the confusion matrix values\n",
        "print(\"True Negatives:\", tn)\n",
        "print(\"False Positives:\", fp)\n",
        "print(\"False Negatives:\", fn)\n",
        "print(\"True Positives:\", tp)\n",
        "\n",
        "# Show the plot\n",
        "plt.show()\n"
      ],
      "metadata": {
        "colab": {
          "base_uri": "https://localhost:8080/",
          "height": 767
        },
        "id": "mjEG3tlCStlD",
        "outputId": "78a4e796-3978-47bf-f4d4-aa0cbd7aea6a"
      },
      "execution_count": 37,
      "outputs": [
        {
          "output_type": "stream",
          "name": "stdout",
          "text": [
            "126/126 [==============================] - 4s 31ms/step\n",
            "Classification Report:\n",
            "              precision    recall  f1-score   support\n",
            "\n",
            "         0.0       0.88      0.77      0.82      2004\n",
            "         1.0       0.80      0.89      0.84      2004\n",
            "\n",
            "    accuracy                           0.83      4008\n",
            "   macro avg       0.84      0.83      0.83      4008\n",
            "weighted avg       0.84      0.83      0.83      4008\n",
            "\n",
            "True Negatives: 1550\n",
            "False Positives: 454\n",
            "False Negatives: 220\n",
            "True Positives: 1784\n"
          ]
        },
        {
          "output_type": "display_data",
          "data": {
            "text/plain": [
              "<Figure size 640x480 with 2 Axes>"
            ],
            "image/png": "[encoded data removed]"
          },
          "metadata": {}
        }
      ]
    },
    {
      "cell_type": "markdown",
      "source": [
        "Based on the classification reports, we can see that the LinearSVC model has a slightly higher accuracy of 0.88 compared to the Bidirectional LSTM model which has an accuracy of 0.83.\n",
        "\n",
        "Looking at the precision, recall, and f1-score, the LinearSVC model performs slightly better than the Bidirectional LSTM model in terms of precision for both classes (0.88 vs 0.80 for class 1 and 0.87 vs 0.88 for class 0). The Bidirectional LSTM model performs slightly better in terms of recall for class 1 (0.89 vs 0.88). The f1-score for both models are similar, with the LinearSVC model having an f1-score of 0.88 for both classes and the Bidirectional LSTM model having an f1-score of 0.84 for class 1 and 0.82 for class 0.\n",
        "\n",
        "Looking at the confusion matrices, we can see that the Bidirectional LSTM model has slightly more true positives but all the other metrics are better in LinearSVC.\n",
        "\n",
        "Overall, the LinearSVC model seems to perform slightly better than the Bidirectional LSTM model in this clickbait detection project based on the evaluation metrics."
      ],
      "metadata": {
        "id": "rJQ3cH3-Ab_u"
      }
    },
    {
      "cell_type": "markdown",
      "metadata": {
        "id": "aD3k39gcLTPY"
      },
      "source": [
        "# 7. Conclusion\n",
        "\n",
        "In this project, we started by exploring the given dataset and performing some basic data preprocessing tasks, such as removing duplicates, filling in missing values, etc. We then proceeded with feature engineering and to experiment with several machine learning models, including Logistic Regression, LinearSVC, Naive Bayes, and Random Forests.\n",
        "\n",
        "After comparing the performance of these models based on their accuracy, precision, recall, and F1 score, we selected LinearSVC as the best model for this task, with an F1 score of 0.88. We then fine-tuned the model using GridSearchCV to optimize its hyperparameters, however the result was close.\n",
        "\n",
        "Next, we experimented with deep learning models, specifically LSTM and Bidirectional LSTM, to see if they could outperform the LinearSVC model. However, even after trying tuning their hyperparameters (manually), their validation accuracies were not better than the LinearSVC model.\n",
        "\n",
        "Based on these results, we can conclude that the given dataset may not be complex enough to require the use of deep learning models. LinearSVC, a simple yet powerful machine learning model, was able to achieve high accuracy and F1 score. However, it's important to note that this conclusion may be specific to this dataset, and other datasets may require more complex models to achieve good performance.\n",
        "\n",
        "Although the bidirectional LSTM had a lower performance than the LinearSVC, it has the advantage of being able to capture the sequential dependencies in the text data. Therefore, it could be worth exploring other ways to improve the performance of the bidirectional LSTM, such as using pre-trained embeddings or more complex architectures.\n",
        "\n",
        "Furthermore, we observed that the size of the dataset could be a limiting factor for the performance of these models. In future work, collecting more data could improve the performance of the models."
      ]
    }
  ],
  "metadata": {
    "colab": {
      "provenance": [],
      "authorship_tag": "ABX9TyMzsb8Bu3ino8h/bd5OfuCf",
      "include_colab_link": true
    },
    "gpuClass": "standard",
    "kernelspec": {
      "display_name": "Python 3",
      "name": "python3"
    },
    "language_info": {
      "name": "python"
    }
  },
  "nbformat": 4,
  "nbformat_minor": 0
}